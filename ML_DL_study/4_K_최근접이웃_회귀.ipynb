{
  "nbformat": 4,
  "nbformat_minor": 0,
  "metadata": {
    "colab": {
      "name": "4_K-최근접이웃_회귀.ipynb",
      "provenance": [],
      "collapsed_sections": []
    },
    "kernelspec": {
      "name": "python3",
      "display_name": "Python 3"
    },
    "language_info": {
      "name": "python"
    }
  },
  "cells": [
    {
      "cell_type": "markdown",
      "metadata": {
        "id": "iij7kgYc_Oge"
      },
      "source": [
        "지도학습 - 분류/회귀<br><br>\n",
        "\n",
        "이진 분류 : target을 두고 클래스를 0 또는 1로 분류\n",
        "\n",
        "회귀 : 임의의 어떤 숫자(target)를 예측\n",
        "\n",
        "<br><br>\n",
        "K-최근접이웃 분류\n",
        "- 클래스를 구하고자 하는 대상의 주변 클래스가 ☆가 2개, ♠가 3개라면,<br>target의 예측 클래스는 ♠이다.\n",
        "\n",
        "K-최근접이웃 회귀\n",
        "- 구하고자 하는 대상의 주변이 5,5,10,15,15라면<br>target의 예측은\n",
        "(5+5+10+15+15)/5 = 10이다."
      ]
    },
    {
      "cell_type": "markdown",
      "metadata": {
        "id": "d8aGuB9p-9NN"
      },
      "source": [
        "### 훈련 데이터 준비"
      ]
    },
    {
      "cell_type": "code",
      "metadata": {
        "id": "rHwe_r99_Eu3"
      },
      "source": [
        "import numpy as np"
      ],
      "execution_count": 1,
      "outputs": []
    },
    {
      "cell_type": "code",
      "metadata": {
        "id": "SwCRVAz387zD"
      },
      "source": [
        "zucchini_length = np.array(\n",
        "    [8.4, 13.7, 15.0, 16.2, 17.4, 18.0, 18.7, 19.0, 19.6, 20.0, \n",
        "     21.0, 21.0, 21.0, 21.3, 22.0, 22.0, 22.0, 22.0, 22.0, 22.5, \n",
        "     22.5, 22.7, 23.0, 23.5, 24.0, 24.0, 24.6, 25.0, 25.6, 26.5, \n",
        "     27.3, 27.5, 27.5, 27.5, 28.0, 28.7, 30.0, 32.8, 34.5, 35.0, \n",
        "     36.5, 36.0, 37.0, 37.0, 39.0, 39.0, 39.0, 40.0, 40.0, 40.0, \n",
        "     40.0, 42.0, 43.0, 43.0, 43.5, 44.0]\n",
        "    )\n",
        "\n",
        "zucchini_weight = np.array(\n",
        "    [5.9, 32.0, 40.0, 51.5, 70.0, 100.0, 78.0, 80.0, 85.0, 85.0, \n",
        "     110.0, 115.0, 125.0, 130.0, 120.0, 120.0, 130.0, 135.0, 110.0, \n",
        "     130.0, 150.0, 145.0, 150.0, 170.0, 225.0, 145.0, 188.0, 180.0, \n",
        "     197.0, 218.0, 300.0, 260.0, 265.0, 250.0, 250.0, 300.0, 320.0, \n",
        "     514.0, 556.0, 840.0, 685.0, 700.0, 700.0, 690.0, 900.0, 650.0, \n",
        "     820.0, 850.0, 900.0, 1015.0, 820.0, 1100.0, 1000.0, 1100.0, \n",
        "     1000.0, 1000.0]\n",
        "     )"
      ],
      "execution_count": 14,
      "outputs": []
    },
    {
      "cell_type": "code",
      "metadata": {
        "colab": {
          "base_uri": "https://localhost:8080/",
          "height": 279
        },
        "id": "ZrZ0ej6SEWvQ",
        "outputId": "998152a7-1ba6-4cb9-bdce-fd30ad558b02"
      },
      "source": [
        "import matplotlib.pyplot as plt\n",
        "\n",
        "plt.scatter(zucchini_length,zucchini_weight)\n",
        "plt.xlabel('length')\n",
        "plt.ylabel('weight')\n",
        "plt.show()"
      ],
      "execution_count": 15,
      "outputs": [
        {
          "output_type": "display_data",
          "data": {
            "image/png": "[encoded data removed]",
            "text/plain": [
              "<Figure size 432x288 with 1 Axes>"
            ]
          },
          "metadata": {
            "needs_background": "light"
          }
        }
      ]
    },
    {
      "cell_type": "markdown",
      "metadata": {
        "id": "MbKXtGDqo59m"
      },
      "source": [
        "훈련 세트 준비 - **train_test_split** 이용"
      ]
    },
    {
      "cell_type": "code",
      "metadata": {
        "id": "4aWP1KCaE4f-"
      },
      "source": [
        "from sklearn.model_selection import train_test_split\n",
        "\n",
        "train_input, test_input, train_target, test_target = train_test_split(zucchini_length,zucchini_weight,random_state=42)\n",
        "\n",
        "train_input = train_input.reshape(-1,1)\n",
        "test_input = test_input.reshape(-1,1)"
      ],
      "execution_count": 18,
      "outputs": []
    },
    {
      "cell_type": "markdown",
      "metadata": {
        "id": "MqTNNi4fsQLc"
      },
      "source": [
        "**stratify 매개변수 사용 X**<br>\n",
        "분류와 다르게 임의의 숫자가 타겟이 될 것이기 때문에 굳이 골고루 섞을 필요 없다.<br>\n",
        "\n",
        "길이 특성을 사용하는 1차원 배열(zucchini_length)을 train_test_split에 넣으면 결과(train_input, test_input)는 1차원 배열이 되게 된다.<br><br>\n",
        "\n",
        "사이킷 런의 모델들은 입력데이터를 2차원 배열로 기대한다.\n",
        "(행방향 : 샘플, 열방향 : 특성)<br>\n",
        "train_input, test_input이 1차원 배열이기 때문에 reshape 메소드를 이용하여 바꿔줌.<br><br>\n",
        "\n",
        "행 차원을 -1로 지정하는 것은 , 변경된 배열의 행 차원은 원래 배열의 길이와 열 차원으로부터 추정한다는 것이다.\n",
        "<br>(열 차원을 -1로 지정할 경우 반대)<br><br>\n",
        "\n",
        "np.array([1,2,3]).reshape(-1,1)<br>\n",
        "array([[1],<br>\n",
        "&nbsp; [2],<br>\n",
        "&nbsp; [3]])"
      ]
    },
    {
      "cell_type": "markdown",
      "metadata": {
        "id": "9GbEurQzxdN3"
      },
      "source": [
        "사이킷 런에서 타겟 데이터(train_target,test_target)는 일반적으로 1차원 배열이기 때문에 바꿔주지 않고 그대로 사용한다."
      ]
    },
    {
      "cell_type": "markdown",
      "metadata": {
        "id": "BGXOtWn1xvAM"
      },
      "source": [
        "### 회귀 모델 훈련"
      ]
    },
    {
      "cell_type": "code",
      "metadata": {
        "colab": {
          "base_uri": "https://localhost:8080/"
        },
        "id": "UyqDJyWTveGy",
        "outputId": "6833444a-c6da-4cb9-8ae3-04db834a6a33"
      },
      "source": [
        "from sklearn.neighbors import KNeighborsRegressor\n",
        "\n",
        "knr = KNeighborsRegressor()\n",
        "knr.fit(train_input,train_target)\n",
        "\n",
        "knr.score(test_input,test_target)"
      ],
      "execution_count": 21,
      "outputs": [
        {
          "output_type": "execute_result",
          "data": {
            "text/plain": [
              "0.9928094061010639"
            ]
          },
          "metadata": {},
          "execution_count": 21
        }
      ]
    },
    {
      "cell_type": "markdown",
      "metadata": {
        "id": "WhvMTZBYz_DG"
      },
      "source": [
        "회귀에서는 R²(결정계수)를 반환한다.<br><br>\n",
        "R²= 1 - {Σ(test 타깃-예측)²/Σ(test 타깃-평균)²}\n",
        "<br><br> 예측 값이 평균 값과 비슷해지면 1과 가까운 값이 반환 될 것(분자가 0에 가까워 지면....)"
      ]
    },
    {
      "cell_type": "code",
      "metadata": {
        "colab": {
          "base_uri": "https://localhost:8080/"
        },
        "id": "fuVCre6JyDBO",
        "outputId": "503af81a-f8a6-4ebe-9c3c-067fffee392f"
      },
      "source": [
        "# 평균 제곱근 오차(사이킷런 메트릭스 모듈에 있다.)\n",
        "from sklearn.metrics import mean_absolute_error\n",
        "\n",
        "test_prediction = knr.predict(test_input)\n",
        "mae = mean_absolute_error(test_target, test_prediction)\n",
        "print(mae)"
      ],
      "execution_count": 22,
      "outputs": [
        {
          "output_type": "stream",
          "name": "stdout",
          "text": [
            "19.157142857142862\n"
          ]
        }
      ]
    },
    {
      "cell_type": "markdown",
      "metadata": {
        "id": "ZKOMBj7s1fQq"
      },
      "source": [
        "test_input으로 예측한 값을 test_prediction에 넣어서 두번째 매개변수로 넣는다.<br>\n",
        "test_target과 test_prediction의 차이를 평균내서 전달해줌.\n",
        "\n",
        "무게를 예측했는데 대략 19g정도 오차가 나는 것.(어느 방향으로든지...)"
      ]
    },
    {
      "cell_type": "markdown",
      "metadata": {
        "id": "yNuK9Er-19dt"
      },
      "source": [
        "### 과대 적합 & 과소 적합"
      ]
    },
    {
      "cell_type": "code",
      "metadata": {
        "colab": {
          "base_uri": "https://localhost:8080/"
        },
        "id": "etR5JW0J1dEG",
        "outputId": "0f630144-6e7e-4660-dd9c-cb4d5ff7adc5"
      },
      "source": [
        "knr.score(train_input, train_target)"
      ],
      "execution_count": 23,
      "outputs": [
        {
          "output_type": "execute_result",
          "data": {
            "text/plain": [
              "0.9698823289099255"
            ]
          },
          "metadata": {},
          "execution_count": 23
        }
      ]
    },
    {
      "cell_type": "code",
      "metadata": {
        "colab": {
          "base_uri": "https://localhost:8080/"
        },
        "id": "5Nvyyrvn2H_9",
        "outputId": "1393d880-fdd3-4bc7-c61e-68c074534f89"
      },
      "source": [
        "knr.score(test_input, test_target)"
      ],
      "execution_count": 24,
      "outputs": [
        {
          "output_type": "execute_result",
          "data": {
            "text/plain": [
              "0.9928094061010639"
            ]
          },
          "metadata": {},
          "execution_count": 24
        }
      ]
    },
    {
      "cell_type": "markdown",
      "metadata": {
        "id": "GQCN382b2Pa9"
      },
      "source": [
        "훈련점수보다 테스트 점수가 더 높게 나왔다.<br><br>\n",
        "일반적으로 훈련점수가 테스트 점수보다 더 높아야한다.<br>테스트 점수가 더 높으면 우연히 맞췄을 확률이 높기 때문<br><br>\n",
        "\n",
        "- 훈련 점수 < 테스트 점수 : 과소 적합\n",
        "- 훈련 점수 >> 테스트 점수 : 과대 적합\n"
      ]
    },
    {
      "cell_type": "markdown",
      "metadata": {
        "id": "LItyiDg447B2"
      },
      "source": [
        "#### 이웃 개수 줄이기"
      ]
    },
    {
      "cell_type": "code",
      "metadata": {
        "colab": {
          "base_uri": "https://localhost:8080/"
        },
        "id": "4wc01b6Y2M38",
        "outputId": "0d854a7b-1921-4ce2-e7a8-8210c038837d"
      },
      "source": [
        "knr.n_neighbors = 3\n",
        "knr.fit(train_input, train_target)\n",
        "\n",
        "print(knr.score(train_input,train_target))"
      ],
      "execution_count": 25,
      "outputs": [
        {
          "output_type": "stream",
          "name": "stdout",
          "text": [
            "0.9804899950518966\n"
          ]
        }
      ]
    },
    {
      "cell_type": "code",
      "metadata": {
        "colab": {
          "base_uri": "https://localhost:8080/"
        },
        "id": "6w1mEiAl5O8J",
        "outputId": "f300a3a9-60c0-4e38-9b3a-f5a60862ae77"
      },
      "source": [
        "knr.score(test_input, test_target)"
      ],
      "execution_count": 26,
      "outputs": [
        {
          "output_type": "execute_result",
          "data": {
            "text/plain": [
              "0.974645996398761"
            ]
          },
          "metadata": {},
          "execution_count": 26
        }
      ]
    },
    {
      "cell_type": "markdown",
      "metadata": {
        "id": "SYSKZgmh5SM5"
      },
      "source": [
        "과대 적합 **↓** 이웃의 개수 **↑** 과소적합"
      ]
    },
    {
      "cell_type": "markdown",
      "metadata": {
        "id": "uqpOg1EF6p56"
      },
      "source": [
        "알고리즘에 따라 전처리나 스케일링이 필요한 경우가 있다.\n",
        "<br><br>\n",
        "특성이 하나가 아닌 두개였다면, train input이 2차원 배열일 것이다.<br>\n",
        "각 특성별로 표준화를 해야하긴 하다. 산점도를 그리기는 힘들것....<br><br>\n",
        "훈련데이터가 굉장히 많다면 랜덤하게만 섞어도 꽤 괜찮은 모델이 나올수도있다. 데이터가 너무 작거나, 어떤 샘플의 개수가 너무 적으면 랜덤하게 섞어도 편향될 수 있기 때문에 stratify  매개변수를 사용해야한다.<br><br>\n"
      ]
    },
    {
      "cell_type": "code",
      "metadata": {
        "colab": {
          "base_uri": "https://localhost:8080/"
        },
        "id": "-qIB7oBO7oqJ",
        "outputId": "3a6fd75a-1d15-4088-e9e8-783e50c9ce73"
      },
      "source": [
        "# 3차원 배열의 reshape\n",
        "np.array([1,2,3,4,5,6]).reshape(2,3,1)"
      ],
      "execution_count": 29,
      "outputs": [
        {
          "output_type": "execute_result",
          "data": {
            "text/plain": [
              "array([[[1],\n",
              "        [2],\n",
              "        [3]],\n",
              "\n",
              "       [[4],\n",
              "        [5],\n",
              "        [6]]])"
            ]
          },
          "metadata": {},
          "execution_count": 29
        }
      ]
    },
    {
      "cell_type": "code",
      "metadata": {
        "colab": {
          "base_uri": "https://localhost:8080/"
        },
        "id": "8KmxQ-K_8LCx",
        "outputId": "e7d58941-531a-4644-da9f-138d759211ad"
      },
      "source": [
        "np.array([[1, 2, 3],\n",
        "       [4, 5, 6]]).reshape(2,3,1)"
      ],
      "execution_count": 31,
      "outputs": [
        {
          "output_type": "execute_result",
          "data": {
            "text/plain": [
              "array([[[1],\n",
              "        [2],\n",
              "        [3]],\n",
              "\n",
              "       [[4],\n",
              "        [5],\n",
              "        [6]]])"
            ]
          },
          "metadata": {},
          "execution_count": 31
        }
      ]
    },
    {
      "cell_type": "code",
      "metadata": {
        "id": "BOIwXWkY8WR5"
      },
      "source": [
        "# 그러나 개수에 맞지 않는 형태로 나누려고하면 에러 발생\n",
        "#np.array([1,2,3,4,5,6]).reshape(3,3)\n",
        "# ValueError: cannot reshape array of size 6 into shape (3,3)"
      ],
      "execution_count": 35,
      "outputs": []
    }
  ]
}