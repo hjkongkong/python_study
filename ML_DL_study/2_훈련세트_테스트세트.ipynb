{
  "nbformat": 4,
  "nbformat_minor": 0,
  "metadata": {
    "colab": {
      "name": "2.지도/비지도학습.ipynb",
      "provenance": [],
      "collapsed_sections": []
    },
    "kernelspec": {
      "name": "python3",
      "display_name": "Python 3"
    },
    "language_info": {
      "name": "python"
    }
  },
  "cells": [
    {
      "cell_type": "markdown",
      "metadata": {
        "id": "-sT0Yc2sCH0K"
      },
      "source": [
        "이전 시간 복습\n",
        "KNeighborsClassifier kn 객체\n",
        "- fit() : 훈련\n",
        "- score() : test\n",
        "- predict() : 새로운 데이터가 주어졌을때 예측\n",
        "\n",
        "<br>\n",
        "\n",
        "## 지도 학습과 비지도 학습\n",
        " ### 지도학습\n",
        "입력과 타겟이 있는 데이터를 사용하여 학습\n",
        "- KNeighbors\n",
        "\n",
        "### 비지도학습\n",
        "타겟 데이터가 없고 입력만으로 학습\n",
        "\n",
        "### 강화학습\n",
        "모델이 어떤 행동을 수행한 후, 주변의 환경에 의해서 행동의 결과를 피드백받으며 개선해나간다. <br>\n",
        "환경이 주는 보상(reward)을 최대화. 이 모델을 Agent라고 부르기도한다.\n",
        "- AlphaGO\n",
        "\n",
        "\n",
        "\n"
      ]
    },
    {
      "cell_type": "markdown",
      "metadata": {
        "id": "e0tsgvZ6KCk3"
      },
      "source": [
        "## 훈련 세트와 테스트 세트\n",
        "### 샘플 49개 중 훈련 세트 35개,테스트 세트 14개 - 샘플링 편향에 주의\n",
        "\n",
        "\n",
        "fruit_length = [5.4, 6.3, 6.5, 9.0, 9.0, 9.7, 9.7, 10.0, 10.0, 10.7, 11.0, 11.0, 11.5, 12.0, 12.0, 12.0, 13.0, 13.0, 13.5, 13.5,\n",
        "                14.0,14.0, 14.5, 1.8, 2.5, 2.6, 2.0, 2.2, 2.3, 2.8, 2.8, 2.0, 2.2, 2.4, 2.0]\n",
        "fruit_weight = [24.0, 29.0, 34.0, 36.0, 43.0, 45.0, 50.0, 49.0, 45.0, 50.0, 47.0, 50.0, 50.0, 44.0, 60.0, 60.0, 70.0, 70.0, 61.0, 65.0, \n",
        "                57.0,68.0, 62.0, 1.7, 2.0, 2.0, 1.7, 2.8, 1.7, 2.1, 2.3, 1.8, 2.2, 1.9, 2.2]\n",
        "\n",
        "test_length = [15.0, 15.0, 15.0, 15.0, 16.0, 16.0, 17.0, 18.5, 18.5, 19.5, 11.0, 11.0, 2.3, 2.0]\n",
        "test_weight = [68.0, 70.0, 72.0, 72.0, 71.0, 85.0, 90.0, 92.0, 95.0, 92.0, 57.0, 55.0, 2.3, 1.9]"
      ]
    },
    {
      "cell_type": "code",
      "metadata": {
        "id": "dsT700ACBXFU"
      },
      "source": [
        "fruit_length = [5.4, 6.3, 6.5, 9.0, 9.0, 9.7, 9.7, 10.0, 10.0, 10.7, 11.0, 11.0, 11.5, 12.0, 12.0, 12.0, 13.0, 13.0, 13.5, 13.5,\n",
        "                14.0,14.0, 14.5, 15.0, 15.0, 15.0, 15.0, 16.0, 16.0, 17.0, 18.5, 18.5, 19.5, 11.0, 11.0\n",
        "                , 1.8, 2.5, 2.6, 2.0, 2.2, 2.3, 2.8, 2.8, 2.0, 2.2, 2.4, 2.0, 2.3, 2.0]\n",
        "fruit_weight = [24.0, 29.0, 34.0, 36.0, 43.0, 45.0, 50.0, 49.0, 45.0, 50.0, 47.0, 50.0, 50.0, 44.0, 60.0, 60.0, 70.0, 70.0, 61.0, 65.0, \n",
        "                57.0,68.0, 62.0, 68.0, 70.0, 72.0, 72.0, 71.0, 85.0, 90.0, 92.0, 95.0, 92.0, 57.0, 55.0\n",
        "                ,1.7, 2.0, 2.0, 1.7, 2.8, 1.7, 2.1, 2.3, 1.8, 2.2, 1.9, 2.2, 2.3, 1.9]"
      ],
      "execution_count": null,
      "outputs": []
    },
    {
      "cell_type": "code",
      "metadata": {
        "id": "eRSK7x-vKSmp"
      },
      "source": [
        "fruit_data = [[l,w] for l,w in zip(fruit_length,fruit_weight)]\n",
        "fruit_target = [1]*35 + [0]*14 # 35개의 훈련 세트, 14개의 test 세트"
      ],
      "execution_count": null,
      "outputs": []
    },
    {
      "cell_type": "code",
      "metadata": {
        "id": "q5wgVc-NKpbG"
      },
      "source": [
        "from sklearn.neighbors import KNeighborsClassifier\n",
        "\n",
        "kn  = KNeighborsClassifier()"
      ],
      "execution_count": null,
      "outputs": []
    },
    {
      "cell_type": "code",
      "metadata": {
        "colab": {
          "base_uri": "https://localhost:8080/"
        },
        "id": "1yCeVQ1YNeM0",
        "outputId": "0549c358-d527-4136-c6dd-a51993a56724"
      },
      "source": [
        "print(fruit_data[4])"
      ],
      "execution_count": null,
      "outputs": [
        {
          "output_type": "stream",
          "name": "stdout",
          "text": [
            "[9.0, 43.0]\n"
          ]
        }
      ]
    },
    {
      "cell_type": "code",
      "metadata": {
        "colab": {
          "base_uri": "https://localhost:8080/"
        },
        "id": "3C2-KTsUNiCb",
        "outputId": "34f8d238-be06-4097-88e3-421727dc4820"
      },
      "source": [
        "print(fruit_data[:5])"
      ],
      "execution_count": null,
      "outputs": [
        {
          "output_type": "stream",
          "name": "stdout",
          "text": [
            "[[5.4, 24.0], [6.3, 29.0], [6.5, 34.0], [9.0, 36.0], [9.0, 43.0]]\n"
          ]
        }
      ]
    },
    {
      "cell_type": "code",
      "metadata": {
        "colab": {
          "base_uri": "https://localhost:8080/"
        },
        "id": "zoyFLiAUNo-l",
        "outputId": "b10ef7fc-1c8d-4144-f4b3-d19cbd4a5f87"
      },
      "source": [
        "print(fruit_data[44:])"
      ],
      "execution_count": null,
      "outputs": [
        {
          "output_type": "stream",
          "name": "stdout",
          "text": [
            "[[2.2, 2.2], [2.4, 1.9], [2.0, 2.2], [2.3, 2.3], [2.0, 1.9]]\n"
          ]
        }
      ]
    },
    {
      "cell_type": "code",
      "metadata": {
        "id": "WnN-3VdXNwju"
      },
      "source": [
        "train_input = fruit_data[:35] # 샘플링 편향\n",
        "train_target = fruit_target[:35]\n",
        "\n",
        "test_input = fruit_data[35:]\n",
        "test_target = fruit_target[35:]"
      ],
      "execution_count": null,
      "outputs": []
    },
    {
      "cell_type": "code",
      "metadata": {
        "colab": {
          "base_uri": "https://localhost:8080/"
        },
        "id": "HgbhN1Y7PRAk",
        "outputId": "b22b1cc7-b346-43ba-a488-c14543eb70e2"
      },
      "source": [
        "kn = kn.fit(train_input,train_target)\n",
        "kn.score(test_input,test_target)"
      ],
      "execution_count": null,
      "outputs": [
        {
          "output_type": "execute_result",
          "data": {
            "text/plain": [
              "0.0"
            ]
          },
          "metadata": {},
          "execution_count": 11
        }
      ]
    },
    {
      "cell_type": "markdown",
      "metadata": {
        "id": "doaHqTeAPaz2"
      },
      "source": [
        "0.0이 나올 수 밖에 없다. train은 사과 데이터만 주고 test는 자두 데이터로 했기때문이다.\n",
        "\n",
        "**샘플링 편향**을 방지하기 위해서는 데이터를 적절히 섞어주는 것이 필요하다 -> Numpy 이용"
      ]
    },
    {
      "cell_type": "markdown",
      "metadata": {
        "id": "HPHcH7E7Pq1V"
      },
      "source": [
        "## **넘파이**"
      ]
    },
    {
      "cell_type": "code",
      "metadata": {
        "id": "Uxz-mcAfPZ2A"
      },
      "source": [
        "import numpy as np"
      ],
      "execution_count": null,
      "outputs": []
    },
    {
      "cell_type": "code",
      "metadata": {
        "id": "S71MBkeJPxvz"
      },
      "source": [
        "input_arr = np.array(fruit_data)\n",
        "target_arr = np.array(fruit_target)"
      ],
      "execution_count": null,
      "outputs": []
    },
    {
      "cell_type": "code",
      "metadata": {
        "colab": {
          "base_uri": "https://localhost:8080/"
        },
        "id": "eKFbJasdP6W0",
        "outputId": "94967da5-3f70-4993-849c-8bb3b0ba5452"
      },
      "source": [
        "print(input_arr)"
      ],
      "execution_count": null,
      "outputs": [
        {
          "output_type": "stream",
          "name": "stdout",
          "text": [
            "[[ 5.4 24. ]\n",
            " [ 6.3 29. ]\n",
            " [ 6.5 34. ]\n",
            " [ 9.  36. ]\n",
            " [ 9.  43. ]\n",
            " [ 9.7 45. ]\n",
            " [ 9.7 50. ]\n",
            " [10.  49. ]\n",
            " [10.  45. ]\n",
            " [10.7 50. ]\n",
            " [11.  47. ]\n",
            " [11.  50. ]\n",
            " [11.5 50. ]\n",
            " [12.  44. ]\n",
            " [12.  60. ]\n",
            " [12.  60. ]\n",
            " [13.  70. ]\n",
            " [13.  70. ]\n",
            " [13.5 61. ]\n",
            " [13.5 65. ]\n",
            " [14.  57. ]\n",
            " [14.  68. ]\n",
            " [14.5 62. ]\n",
            " [15.  68. ]\n",
            " [15.  70. ]\n",
            " [15.  72. ]\n",
            " [15.  72. ]\n",
            " [16.  71. ]\n",
            " [16.  85. ]\n",
            " [17.  90. ]\n",
            " [18.5 92. ]\n",
            " [18.5 95. ]\n",
            " [19.5 92. ]\n",
            " [11.  57. ]\n",
            " [11.  55. ]\n",
            " [ 1.8  1.7]\n",
            " [ 2.5  2. ]\n",
            " [ 2.6  2. ]\n",
            " [ 2.   1.7]\n",
            " [ 2.2  2.8]\n",
            " [ 2.3  1.7]\n",
            " [ 2.8  2.1]\n",
            " [ 2.8  2.3]\n",
            " [ 2.   1.8]\n",
            " [ 2.2  2.2]\n",
            " [ 2.4  1.9]\n",
            " [ 2.   2.2]\n",
            " [ 2.3  2.3]\n",
            " [ 2.   1.9]]\n"
          ]
        }
      ]
    },
    {
      "cell_type": "code",
      "metadata": {
        "colab": {
          "base_uri": "https://localhost:8080/"
        },
        "id": "E7o1oJyHP8QA",
        "outputId": "770ec1fe-d75f-4c2e-c743-2e0877780dd8"
      },
      "source": [
        "print(input_arr.shape)"
      ],
      "execution_count": null,
      "outputs": [
        {
          "output_type": "stream",
          "name": "stdout",
          "text": [
            "(49, 2)\n"
          ]
        }
      ]
    },
    {
      "cell_type": "code",
      "metadata": {
        "id": "DfrowiboQAIv"
      },
      "source": [
        "# 난수를 예측 가능하도록 만든다. 난수가 발생하는 동작 제어\n",
        "np.random.seed(42)\n",
        "index = np.arange(49) # 0~48 인덱스를 생성한다.\n",
        "np.random.shuffle(index) # 인덱스를 섞어준다."
      ],
      "execution_count": null,
      "outputs": []
    },
    {
      "cell_type": "code",
      "metadata": {
        "colab": {
          "base_uri": "https://localhost:8080/"
        },
        "id": "KzdaS-dkQ18h",
        "outputId": "3ce71e01-22f7-4224-e789-27bb500747d6"
      },
      "source": [
        "print(index)"
      ],
      "execution_count": null,
      "outputs": [
        {
          "output_type": "stream",
          "name": "stdout",
          "text": [
            "[13 45 47 44 17 27 26 25 31 19 12  4 34  8  3  6 40 41 46 15  9 16 24 33\n",
            " 30  0 43 32  5 29 11 36  1 21  2 37 35 23 39 10 22 18 48 20  7 42 14 28\n",
            " 38]\n"
          ]
        }
      ]
    },
    {
      "cell_type": "code",
      "metadata": {
        "colab": {
          "base_uri": "https://localhost:8080/"
        },
        "id": "Sib_qSHFQ3XL",
        "outputId": "ba906035-7fd2-4134-e555-791ccb18430d"
      },
      "source": [
        "print(input_arr[[1,3]])"
      ],
      "execution_count": null,
      "outputs": [
        {
          "output_type": "stream",
          "name": "stdout",
          "text": [
            "[[ 6.3 29. ]\n",
            " [ 9.  36. ]]\n"
          ]
        }
      ]
    },
    {
      "cell_type": "code",
      "metadata": {
        "id": "qfI5sApvQ-G6"
      },
      "source": [
        "train_input = input_arr[index[:35]]\n",
        "train_target = target_arr[index[:35]]"
      ],
      "execution_count": null,
      "outputs": []
    },
    {
      "cell_type": "code",
      "metadata": {
        "colab": {
          "base_uri": "https://localhost:8080/"
        },
        "id": "c2cvgGLnRJyx",
        "outputId": "a766043f-8f94-4a99-a0bf-fd6e689dd0c8"
      },
      "source": [
        "print(input_arr[13],train_input[0]) # shuffle 확인"
      ],
      "execution_count": null,
      "outputs": [
        {
          "output_type": "stream",
          "name": "stdout",
          "text": [
            "[12. 44.] [12. 44.]\n"
          ]
        }
      ]
    },
    {
      "cell_type": "code",
      "metadata": {
        "id": "dlR53g3LVFQg"
      },
      "source": [
        "test_input = input_arr[index[35:]]\n",
        "test_target = target_arr[index[35:]]"
      ],
      "execution_count": null,
      "outputs": []
    },
    {
      "cell_type": "code",
      "metadata": {
        "colab": {
          "base_uri": "https://localhost:8080/",
          "height": 279
        },
        "id": "PhVl7N21Vb3g",
        "outputId": "ea091bcd-9a65-49b3-d3e7-eaea408b3ed3"
      },
      "source": [
        "import matplotlib.pyplot as plt\n",
        "\n",
        "# 2차원 배열의 행과 열을 선택\n",
        "plt.scatter(train_input[:,0],train_input[:,1])\n",
        "plt.scatter(test_input[:,0],test_input[:,1])\n",
        "plt.xlabel('length')\n",
        "plt.ylabel('weight')\n",
        "plt.show()"
      ],
      "execution_count": null,
      "outputs": [
        {
          "output_type": "display_data",
          "data": {
            "image/png": "[encoded data removed]",
            "text/plain": [
              "<Figure size 432x288 with 1 Axes>"
            ]
          },
          "metadata": {
            "needs_background": "light"
          }
        }
      ]
    },
    {
      "cell_type": "markdown",
      "metadata": {
        "id": "gvKrMIoJXU3f"
      },
      "source": [
        "## 두 번째 머신러닝 프로그램"
      ]
    },
    {
      "cell_type": "code",
      "metadata": {
        "id": "xO9TNTC7XMaW"
      },
      "source": [
        "kn = kn.fit(train_input,train_target)"
      ],
      "execution_count": null,
      "outputs": []
    },
    {
      "cell_type": "code",
      "metadata": {
        "colab": {
          "base_uri": "https://localhost:8080/"
        },
        "id": "ko3OvIGxXgUy",
        "outputId": "4a7292fe-1546-4fa6-b6a2-e5c97893353e"
      },
      "source": [
        "kn.score(test_input,test_target)"
      ],
      "execution_count": null,
      "outputs": [
        {
          "output_type": "execute_result",
          "data": {
            "text/plain": [
              "1.0"
            ]
          },
          "metadata": {},
          "execution_count": 33
        }
      ]
    },
    {
      "cell_type": "code",
      "metadata": {
        "colab": {
          "base_uri": "https://localhost:8080/"
        },
        "id": "XueF_h-rXnx0",
        "outputId": "ca040ca0-6ce2-4e89-acc3-366dbb19e06a"
      },
      "source": [
        "kn.predict(test_input)"
      ],
      "execution_count": null,
      "outputs": [
        {
          "output_type": "execute_result",
          "data": {
            "text/plain": [
              "array([0, 0, 1, 0, 1, 1, 1, 0, 1, 1, 0, 1, 1, 0])"
            ]
          },
          "metadata": {},
          "execution_count": 34
        }
      ]
    },
    {
      "cell_type": "code",
      "metadata": {
        "colab": {
          "base_uri": "https://localhost:8080/"
        },
        "id": "Cl0_V9KwXrXU",
        "outputId": "8296b6b5-8711-4a28-b330-9367c51c5b5c"
      },
      "source": [
        "test_target"
      ],
      "execution_count": null,
      "outputs": [
        {
          "output_type": "execute_result",
          "data": {
            "text/plain": [
              "array([0, 0, 1, 0, 1, 1, 1, 0, 1, 1, 0, 1, 1, 0])"
            ]
          },
          "metadata": {},
          "execution_count": 35
        }
      ]
    }
  ]
}