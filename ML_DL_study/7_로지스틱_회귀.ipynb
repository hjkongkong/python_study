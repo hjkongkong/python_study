{
  "nbformat": 4,
  "nbformat_minor": 0,
  "metadata": {
    "colab": {
      "name": "7_로지스틱_회귀.ipynb",
      "provenance": [],
      "collapsed_sections": []
    },
    "kernelspec": {
      "name": "python3",
      "display_name": "Python 3"
    },
    "language_info": {
      "name": "python"
    }
  },
  "cells": [
    {
      "cell_type": "markdown",
      "metadata": {
        "id": "sfXJzlmqZqv5"
      },
      "source": [
        "구글 colab을 이용하여 실습을 진행하였다.\n",
        "\n",
        "로지스틱 회귀에 사용 할 파일을 업로드하여 불러오도록 하겠다.\n",
        "\n",
        "--------------------------------------------------------"
      ]
    },
    {
      "cell_type": "code",
      "metadata": {
        "colab": {
          "resources": {
            "http://localhost:8080/nbextensions/google.colab/files.js": {
              "data": "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",
              "ok": true,
              "headers": [
                [
                  "content-type",
                  "application/javascript"
                ]
              ],
              "status": 200,
              "status_text": ""
            }
          },
          "base_uri": "https://localhost:8080/",
          "height": 76
        },
        "id": "AwmqN3lIZP_o",
        "outputId": "f02a97b4-a110-4a82-bf39-68a3769c1ff3"
      },
      "source": [
        "#파일 업로드하기\n",
        "from google.colab import files\n",
        "myfile = files.upload()"
      ],
      "execution_count": 1,
      "outputs": [
        {
          "output_type": "display_data",
          "data": {
            "text/html": [
              "\n",
              "     <input type=\"file\" id=\"files-15458acd-916e-45c7-807a-4d816c348cca\" name=\"files[]\" multiple disabled\n",
              "        style=\"border:none\" />\n",
              "     <output id=\"result-15458acd-916e-45c7-807a-4d816c348cca\">\n",
              "      Upload widget is only available when the cell has been executed in the\n",
              "      current browser session. Please rerun this cell to enable.\n",
              "      </output>\n",
              "      <script src=\"/nbextensions/google.colab/files.js\"></script> "
            ],
            "text/plain": [
              "<IPython.core.display.HTML object>"
            ]
          },
          "metadata": {}
        },
        {
          "output_type": "stream",
          "name": "stdout",
          "text": [
            "Saving fruit.csv to fruit.csv\n"
          ]
        }
      ]
    },
    {
      "cell_type": "markdown",
      "metadata": {
        "id": "z8WwbmuNaNZk"
      },
      "source": [
        "fruit.csv(application/vnd.ms-excel) - 5275 bytes, last modified: 2021. 11. 10. - 100% done\n",
        "Saving fruit.csv to fruit.csv\n",
        "<br> 업로드 됨"
      ]
    },
    {
      "cell_type": "code",
      "metadata": {
        "id": "mwrp7NRaaAcm"
      },
      "source": [
        "#io와 pandas 모듈 import\n",
        "import io\n",
        "import pandas as pd"
      ],
      "execution_count": 2,
      "outputs": []
    },
    {
      "cell_type": "markdown",
      "metadata": {
        "id": "RFS7g9xbafcZ"
      },
      "source": [
        "코랩에서는 io모듈을 import 하지 않은 상태에서 pandas를 사용할 경우 오류 발생한다."
      ]
    },
    {
      "cell_type": "code",
      "metadata": {
        "colab": {
          "base_uri": "https://localhost:8080/",
          "height": 203
        },
        "id": "S7EQq2a9ae9l",
        "outputId": "85711e74-122a-4302-ba5b-b04700a2cd65"
      },
      "source": [
        "#pd.read_csv로 csv파일 불러오기\n",
        "fruit = pd.read_csv(io.BytesIO(myfile['fruit.csv']))\n",
        "fruit.head()"
      ],
      "execution_count": 3,
      "outputs": [
        {
          "output_type": "execute_result",
          "data": {
            "text/html": [
              "<div>\n",
              "<style scoped>\n",
              "    .dataframe tbody tr th:only-of-type {\n",
              "        vertical-align: middle;\n",
              "    }\n",
              "\n",
              "    .dataframe tbody tr th {\n",
              "        vertical-align: top;\n",
              "    }\n",
              "\n",
              "    .dataframe thead th {\n",
              "        text-align: right;\n",
              "    }\n",
              "</style>\n",
              "<table border=\"1\" class=\"dataframe\">\n",
              "  <thead>\n",
              "    <tr style=\"text-align: right;\">\n",
              "      <th></th>\n",
              "      <th>Species</th>\n",
              "      <th>Weight</th>\n",
              "      <th>Length</th>\n",
              "      <th>Diagonal</th>\n",
              "      <th>Height</th>\n",
              "      <th>Width</th>\n",
              "    </tr>\n",
              "  </thead>\n",
              "  <tbody>\n",
              "    <tr>\n",
              "      <th>0</th>\n",
              "      <td>apple</td>\n",
              "      <td>242.0</td>\n",
              "      <td>25.4</td>\n",
              "      <td>30.0</td>\n",
              "      <td>11.5200</td>\n",
              "      <td>4.0200</td>\n",
              "    </tr>\n",
              "    <tr>\n",
              "      <th>1</th>\n",
              "      <td>apple</td>\n",
              "      <td>290.0</td>\n",
              "      <td>26.3</td>\n",
              "      <td>31.2</td>\n",
              "      <td>12.4800</td>\n",
              "      <td>4.3056</td>\n",
              "    </tr>\n",
              "    <tr>\n",
              "      <th>2</th>\n",
              "      <td>apple</td>\n",
              "      <td>340.0</td>\n",
              "      <td>26.5</td>\n",
              "      <td>31.1</td>\n",
              "      <td>12.3778</td>\n",
              "      <td>4.6961</td>\n",
              "    </tr>\n",
              "    <tr>\n",
              "      <th>3</th>\n",
              "      <td>apple</td>\n",
              "      <td>363.0</td>\n",
              "      <td>29.0</td>\n",
              "      <td>33.5</td>\n",
              "      <td>12.7300</td>\n",
              "      <td>4.4555</td>\n",
              "    </tr>\n",
              "    <tr>\n",
              "      <th>4</th>\n",
              "      <td>apple</td>\n",
              "      <td>430.0</td>\n",
              "      <td>29.0</td>\n",
              "      <td>34.0</td>\n",
              "      <td>12.4440</td>\n",
              "      <td>5.1340</td>\n",
              "    </tr>\n",
              "  </tbody>\n",
              "</table>\n",
              "</div>"
            ],
            "text/plain": [
              "  Species  Weight  Length  Diagonal   Height   Width\n",
              "0   apple   242.0    25.4      30.0  11.5200  4.0200\n",
              "1   apple   290.0    26.3      31.2  12.4800  4.3056\n",
              "2   apple   340.0    26.5      31.1  12.3778  4.6961\n",
              "3   apple   363.0    29.0      33.5  12.7300  4.4555\n",
              "4   apple   430.0    29.0      34.0  12.4440  5.1340"
            ]
          },
          "metadata": {},
          "execution_count": 3
        }
      ]
    },
    {
      "cell_type": "markdown",
      "metadata": {
        "id": "ZYKXvIbxaxHr"
      },
      "source": [
        "코랩에 업로드하여 파일 읽어오기 완료\n",
        "\n",
        "-------------------------------------"
      ]
    },
    {
      "cell_type": "code",
      "metadata": {
        "id": "_Y4LTniwawMl"
      },
      "source": [
        "# 주피터 노트북에서 진행한다면\n",
        "#import pandas as pd\n",
        "#fruit = pd.read_csv('./fruit.csv'))\n",
        "#fruit.head()"
      ],
      "execution_count": 4,
      "outputs": []
    },
    {
      "cell_type": "code",
      "metadata": {
        "id": "TE1K7oA1bSYM"
      },
      "source": [
        "fruit_input = fruit[['Weight','Length','Diagonal','Height','Width']].to_numpy()\n",
        "fruit_target = fruit['Species'].to_numpy()"
      ],
      "execution_count": 5,
      "outputs": []
    },
    {
      "cell_type": "markdown",
      "metadata": {
        "id": "bRXtsEegdASx"
      },
      "source": [
        "종을 타깃으로 잡고, 나머지 열 제목들을 특성으로 잡는다.\n",
        "<br>\n",
        "- 데이터 프레임에서 여러 열을 선택하면 새로운 데이터 프레임으로 변환됨\n",
        "- 이를 넘파이 배열로 바꿔서 저장"
      ]
    },
    {
      "cell_type": "code",
      "metadata": {
        "colab": {
          "base_uri": "https://localhost:8080/"
        },
        "id": "56PHKnrJc9hM",
        "outputId": "a9441d2b-7780-4904-fcd4-2afc73a07b44"
      },
      "source": [
        "# 어떤 종류의 과일이 있는지 고유 값 추출\n",
        "print(pd.unique(fruit['Species']))"
      ],
      "execution_count": 6,
      "outputs": [
        {
          "output_type": "stream",
          "name": "stdout",
          "text": [
            "['apple' 'pear' 'banana' 'orange' 'grape' 'melon' 'plum']\n"
          ]
        }
      ]
    },
    {
      "cell_type": "code",
      "metadata": {
        "id": "c3aV2UendlDb"
      },
      "source": [
        "from sklearn.model_selection import train_test_split\n",
        "train_input, test_input, train_target, test_target = train_test_split(fruit_input,fruit_target,random_state=42)"
      ],
      "execution_count": 7,
      "outputs": []
    },
    {
      "cell_type": "code",
      "metadata": {
        "id": "wbcIsRRefiqq"
      },
      "source": [
        "# 훈련 세트와 테스트 세트 표준화 전처리\n",
        "from sklearn.preprocessing import StandardScaler\n",
        "ss = StandardScaler()\n",
        "ss.fit(train_input)\n",
        "train_scaled = ss.transform(train_input)\n",
        "test_scaled = ss.transform(test_input)"
      ],
      "execution_count": 8,
      "outputs": []
    },
    {
      "cell_type": "markdown",
      "metadata": {
        "id": "3E9ShqnIgKOW"
      },
      "source": [
        "훈련세트의 통계 값으로 테스트 세트를 변환"
      ]
    },
    {
      "cell_type": "markdown",
      "metadata": {
        "id": "MOA6L5C8gRl5"
      },
      "source": [
        "### K- 최근접 이웃의 다중 분류"
      ]
    },
    {
      "cell_type": "code",
      "metadata": {
        "colab": {
          "base_uri": "https://localhost:8080/"
        },
        "id": "V8PHwlVqgDfa",
        "outputId": "4999f4c0-b20a-47c1-8732-7a5dd2794e08"
      },
      "source": [
        "from sklearn.neighbors import KNeighborsClassifier\n",
        "\n",
        "kn = KNeighborsClassifier(n_neighbors=3)\n",
        "kn.fit(train_scaled, train_target)\n",
        "\n",
        "print(kn.score(train_scaled,train_target))\n",
        "print(kn.score(test_scaled,test_target))"
      ],
      "execution_count": 9,
      "outputs": [
        {
          "output_type": "stream",
          "name": "stdout",
          "text": [
            "0.8823529411764706\n",
            "0.85\n"
          ]
        }
      ]
    },
    {
      "cell_type": "code",
      "metadata": {
        "colab": {
          "base_uri": "https://localhost:8080/"
        },
        "id": "mTYiryJrhBm7",
        "outputId": "59be1bf5-e13d-4fdd-cb89-8c754dc3f56a"
      },
      "source": [
        "print(kn.classes_) # 모델이 데이터로부터 학습한 값"
      ],
      "execution_count": 10,
      "outputs": [
        {
          "output_type": "stream",
          "name": "stdout",
          "text": [
            "['apple' 'banana' 'grape' 'melon' 'orange' 'pear' 'plum']\n"
          ]
        }
      ]
    },
    {
      "cell_type": "code",
      "metadata": {
        "colab": {
          "base_uri": "https://localhost:8080/"
        },
        "id": "xlpEXUxUgzso",
        "outputId": "1c17cc77-2fe0-4c38-ff9b-4aef67ebe263"
      },
      "source": [
        "print(kn.predict(test_scaled[:5])) # 5개의 샘플을 뽑아 최근접 알고리즘으로 확인"
      ],
      "execution_count": 11,
      "outputs": [
        {
          "output_type": "stream",
          "name": "stdout",
          "text": [
            "['grape' 'plum' 'melon' 'grape' 'grape']\n"
          ]
        }
      ]
    },
    {
      "cell_type": "code",
      "metadata": {
        "colab": {
          "base_uri": "https://localhost:8080/"
        },
        "id": "WEz8rd4rg8dJ",
        "outputId": "7ac53f20-8654-4ac4-b193-6549fe50c9a1"
      },
      "source": [
        "import numpy as np\n",
        "\n",
        "proba = kn.predict_proba(test_scaled[:5])\n",
        "print(np.round(proba,decimals=4))"
      ],
      "execution_count": 12,
      "outputs": [
        {
          "output_type": "stream",
          "name": "stdout",
          "text": [
            "[[0.     0.     1.     0.     0.     0.     0.    ]\n",
            " [0.     0.     0.     0.     0.     0.     1.    ]\n",
            " [0.     0.     0.     1.     0.     0.     0.    ]\n",
            " [0.     0.     0.6667 0.     0.     0.3333 0.    ]\n",
            " [0.     0.     0.6667 0.     0.     0.3333 0.    ]]\n"
          ]
        }
      ]
    },
    {
      "cell_type": "markdown",
      "metadata": {
        "id": "k4oyGn21iceQ"
      },
      "source": [
        "확률 출력을 위해 predict_proba 메소드 사용.<br>\n",
        "사이킷 런의 대부분의 모델들은 이 메소드 제공.\n",
        "<br>확률 계산을 위해 자원이 너무 많이 필요한 모델은 제공 안해주는 경우도 있다.\n",
        "<br><br>\n",
        "다섯개의 샘플이 행으로 나와있고 7개의 과일에 대한 확률이 나와있다.<br>\n",
        "['apple' 'banana' 'grape' 'melon' 'orange' 'pear' 'plum']<br>\n",
        "[0 0 1 0 0 0 0]\n",
        "=> 세번째 클래스(grape)에 대한 확률이 1이다."
      ]
    },
    {
      "cell_type": "markdown",
      "metadata": {
        "id": "DxoFtcgJjcf2"
      },
      "source": [
        "K-최근접 이웃의 단점은 3개의 샘플만 사용했기 때문에 확률이 0/3, 1/3, 2/3, 3/3밖에 없다."
      ]
    },
    {
      "cell_type": "markdown",
      "metadata": {
        "id": "j8Oj673RjnL1"
      },
      "source": [
        "## 로지스틱 회귀\n",
        "대표적인 _분류 알고리즘_<br><br>\n",
        "**z = a*무게 + b*길이 +c*대각선 + d*높이 + e*두께 + f** \n",
        "<br>a,b,c,d,e,f는 가중치 혹은 계수<br><br>\n",
        "z가 확률이 되려면 0~1 사이 값이 되어야한다.\n",
        "- 시그모이드 함수(로지스틱 함수) 사용"
      ]
    },
    {
      "cell_type": "code",
      "metadata": {
        "id": "rhWwwXLvhdZh",
        "colab": {
          "base_uri": "https://localhost:8080/"
        },
        "outputId": "a6bf994a-dd89-4e17-fc4c-f28c09524192"
      },
      "source": [
        "# 로지스티 회귀(이진 분류)\n",
        "apple_plum_indexes = (train_target == 'apple') | (train_target == 'plum')\n",
        "train_apple_plum = train_scaled[apple_plum_indexes]\n",
        "target_apple_plum = train_target[apple_plum_indexes]\n",
        "\n",
        "from sklearn.linear_model import LogisticRegression\n",
        "\n",
        "lr = LogisticRegression()\n",
        "lr.fit(train_apple_plum,target_apple_plum)\n",
        "\n",
        "print(lr.predict(train_apple_plum[:5]))"
      ],
      "execution_count": 13,
      "outputs": [
        {
          "output_type": "stream",
          "name": "stdout",
          "text": [
            "['apple' 'plum' 'apple' 'apple' 'apple']\n"
          ]
        }
      ]
    },
    {
      "cell_type": "markdown",
      "metadata": {
        "id": "LH3aaMfM18RP"
      },
      "source": [
        "apple_plum_indexes : 전체 모델 중 apple과 plum만 뽑아낸 인덱스"
      ]
    },
    {
      "cell_type": "code",
      "metadata": {
        "colab": {
          "base_uri": "https://localhost:8080/"
        },
        "id": "am6qSjcVP8uh",
        "outputId": "81758041-6f88-4cc9-8bfa-3b8cb6aa6970"
      },
      "source": [
        "print(lr.predict_proba(train_apple_plum[:5]))"
      ],
      "execution_count": 14,
      "outputs": [
        {
          "output_type": "stream",
          "name": "stdout",
          "text": [
            "[[0.99759855 0.00240145]\n",
            " [0.02735183 0.97264817]\n",
            " [0.99486072 0.00513928]\n",
            " [0.98584202 0.01415798]\n",
            " [0.99767269 0.00232731]]\n"
          ]
        }
      ]
    },
    {
      "cell_type": "markdown",
      "metadata": {
        "id": "Yl6pvAHk2KFP"
      },
      "source": [
        "이진 분류이기 때문에 첫번째 인덱스가 음성(0) 클래스의 확률, 두번째 인덱스가 양성 클래스(1)의 확률이다."
      ]
    },
    {
      "cell_type": "code",
      "metadata": {
        "colab": {
          "base_uri": "https://localhost:8080/"
        },
        "id": "YdW4Geaf5lOo",
        "outputId": "47a0da0f-0986-4300-d9fc-d97395133ef6"
      },
      "source": [
        "print(lr.classes_)"
      ],
      "execution_count": 15,
      "outputs": [
        {
          "output_type": "stream",
          "name": "stdout",
          "text": [
            "['apple' 'plum']\n"
          ]
        }
      ]
    },
    {
      "cell_type": "markdown",
      "metadata": {
        "id": "8dXEA04U5uSg"
      },
      "source": [
        "확인 결과 사과가 0, 자두가 1이다.<br>\n",
        "사이킷런은 타깃값을 알페벳 순으로 정렬하여 사용한다."
      ]
    },
    {
      "cell_type": "markdown",
      "metadata": {
        "id": "s0sqev0w27Du"
      },
      "source": [
        "### 로지스틱 회귀 계수 확인\n",
        "선형함수를 학습하기때문에 출력 가능하다."
      ]
    },
    {
      "cell_type": "code",
      "metadata": {
        "id": "M3av1mMOQClg",
        "colab": {
          "base_uri": "https://localhost:8080/"
        },
        "outputId": "e3e447f3-006c-4f44-a2cf-538e163ab669"
      },
      "source": [
        "print(lr.coef_,lr.intercept_)"
      ],
      "execution_count": 16,
      "outputs": [
        {
          "output_type": "stream",
          "name": "stdout",
          "text": [
            "[[-0.4037798  -0.57620209 -0.66280298 -1.01290277 -0.73168947]] [-2.16155132]\n"
          ]
        }
      ]
    },
    {
      "cell_type": "markdown",
      "metadata": {
        "id": "gw4cd8_A3GH8"
      },
      "source": [
        "특성이 다섯개이므로 다섯개의 가중치(기울기)가 나온다.<br>\n",
        "z = -0.404 * 무게 + (-0.576)*길이 + (-0.663)*대각선 + (-1.013)*높이 + (-0.732)*두께 + (-2.161)"
      ]
    },
    {
      "cell_type": "code",
      "metadata": {
        "colab": {
          "base_uri": "https://localhost:8080/"
        },
        "id": "BFqqZKM03EO6",
        "outputId": "72157916-2873-427b-b841-d64e6911eca4"
      },
      "source": [
        "# z 값을 출력해주는 decision_function\n",
        "decisions = lr.decision_function(train_apple_plum[:5])\n",
        "print(decisions)"
      ],
      "execution_count": 17,
      "outputs": [
        {
          "output_type": "stream",
          "name": "stdout",
          "text": [
            "[-6.02927744  3.57123907 -5.26568906 -4.24321775 -6.0607117 ]\n"
          ]
        }
      ]
    },
    {
      "cell_type": "markdown",
      "metadata": {
        "id": "W-afJPgs6xLQ"
      },
      "source": [
        "앞에서 넣은 다섯개의 샘플의 z(결과) 값을 출력<br><br>\n",
        "z 값을 시그모이드 함수에 통과시키면 확률을 얻을 수 있다."
      ]
    },
    {
      "cell_type": "code",
      "metadata": {
        "colab": {
          "base_uri": "https://localhost:8080/"
        },
        "id": "c90F1K5S6r8z",
        "outputId": "cafae00b-53ae-482e-bd40-1b78e82513cd"
      },
      "source": [
        "# 사이파이의 expit() - np.exp()을 이용해 분수계산보다 편리하고 안전하다.\n",
        "from scipy.special import expit\n",
        "print(expit(decisions))"
      ],
      "execution_count": 18,
      "outputs": [
        {
          "output_type": "stream",
          "name": "stdout",
          "text": [
            "[0.00240145 0.97264817 0.00513928 0.01415798 0.00232731]\n"
          ]
        }
      ]
    },
    {
      "cell_type": "markdown",
      "metadata": {
        "id": "Uv9c7jcN8oGx"
      },
      "source": [
        "[[0.99759855 **0.00240145**]<br>\n",
        " [0.02735183 **0.97264817**]<br>\n",
        " [0.99486072 **0.00513928**]<br>\n",
        " [0.98584202 **0.01415798**]<br>\n",
        " [0.99767269 **0.00232731**]]<br>\n",
        "동일함.<br><br>\n",
        "decision_function은<br>\n",
        "로지스틱 회귀가 이진 분류일 때는 사실상 양성 클래스의 z값만 계산을 하는 것.<br>\n",
        "확률을 출력할 때는 양성 클래스의 확률을 출력하는 것.<br>(1에서 결과값을 빼면 음성 클래스의 값이 나오긴 함)"
      ]
    },
    {
      "cell_type": "markdown",
      "metadata": {
        "id": "k72bIUsy9hac"
      },
      "source": [
        "<br>\n",
        "\n",
        "## 로지스틱 회귀(다중 분류)\n",
        "여러개의 클래스가 있는 경우"
      ]
    },
    {
      "cell_type": "code",
      "metadata": {
        "colab": {
          "base_uri": "https://localhost:8080/"
        },
        "id": "oTbogO_I8bji",
        "outputId": "44fa46c2-3e4e-48e1-ee9e-f44c52ee4fcd"
      },
      "source": [
        "lr = LogisticRegression(C=20,max_iter=1000)\n",
        "lr.fit(train_scaled, train_target)"
      ],
      "execution_count": 19,
      "outputs": [
        {
          "output_type": "execute_result",
          "data": {
            "text/plain": [
              "LogisticRegression(C=20, class_weight=None, dual=False, fit_intercept=True,\n",
              "                   intercept_scaling=1, l1_ratio=None, max_iter=1000,\n",
              "                   multi_class='auto', n_jobs=None, penalty='l2',\n",
              "                   random_state=None, solver='lbfgs', tol=0.0001, verbose=0,\n",
              "                   warm_start=False)"
            ]
          },
          "metadata": {},
          "execution_count": 19
        }
      ]
    },
    {
      "cell_type": "markdown",
      "metadata": {
        "id": "Cyhk5gajAWSG"
      },
      "source": [
        "**max_iter**은 반복횟수 지정 매개변수이다. 기본 값은 100<br><br>\n",
        "로지스틱 회귀는 기본적으로 계수의 제곱을 규제한다.(L2 규제)<br>\n",
        "선형 회귀의 릿지 회귀에서는 alpha 매개변수로 규제의 양을 조절했다. alpha가 커지면 규제도 커지는 식으로..<br>\n",
        "LogisticRegression에서 규제의 양 을 조절하는 매개변수는 **C**이다.<br>\n",
        "하지만 alpha와 반대로 C의 값이 작아지면 규제가 커진다.<br><br>\n",
        "\n",
        " LogisticRegression(C=20,max_iter=1000)<br>\n",
        "→ 규제는 완화하고, 반복횟수는 늘린 것."
      ]
    },
    {
      "cell_type": "code",
      "metadata": {
        "colab": {
          "base_uri": "https://localhost:8080/"
        },
        "id": "vAHdGiw8AH7S",
        "outputId": "51a80e41-acec-4f69-bffe-e0d68da4fea2"
      },
      "source": [
        "# 분류의 score은 정확도이다.\n",
        "print(lr.score(train_scaled, train_target))\n",
        "print(lr.score(test_scaled, test_target))"
      ],
      "execution_count": 20,
      "outputs": [
        {
          "output_type": "stream",
          "name": "stdout",
          "text": [
            "0.9327731092436975\n",
            "0.925\n"
          ]
        }
      ]
    },
    {
      "cell_type": "code",
      "metadata": {
        "id": "5sHPGbtdANd6",
        "colab": {
          "base_uri": "https://localhost:8080/"
        },
        "outputId": "bfa857d9-40c9-4392-b714-e22670e164e8"
      },
      "source": [
        "# 테스트 세트의 5개의 샘플에 대한 예측\n",
        "print(lr.predict(test_scaled[:5]))"
      ],
      "execution_count": 21,
      "outputs": [
        {
          "output_type": "stream",
          "name": "stdout",
          "text": [
            "['grape' 'plum' 'melon' 'pear' 'grape']\n"
          ]
        }
      ]
    },
    {
      "cell_type": "code",
      "metadata": {
        "colab": {
          "base_uri": "https://localhost:8080/"
        },
        "id": "bPoa-04gyaKV",
        "outputId": "3d393316-b8c6-4c27-d949-053087c44a7d"
      },
      "source": [
        "# 테스트 세트의 5개의 샘플에 대한 예측 확률\n",
        "proba = lr.predict_proba(test_scaled[:5])\n",
        "print(np.round(proba,decimals=3)) # 소수점 네번째에서 반올림"
      ],
      "execution_count": 22,
      "outputs": [
        {
          "output_type": "stream",
          "name": "stdout",
          "text": [
            "[[0.    0.003 0.841 0.    0.014 0.136 0.007]\n",
            " [0.    0.    0.044 0.    0.003 0.007 0.946]\n",
            " [0.    0.    0.034 0.935 0.    0.015 0.016]\n",
            " [0.011 0.076 0.306 0.007 0.034 0.567 0.   ]\n",
            " [0.    0.001 0.904 0.002 0.    0.089 0.002]]\n"
          ]
        }
      ]
    },
    {
      "cell_type": "markdown",
      "metadata": {
        "id": "yd1lC-E1yyCz"
      },
      "source": [
        "5개의 행에 대한 7개의 확률<br>\n",
        "[[0.    0.003 **0.841** 0.    0.014 0.136 0.007]<br>\n",
        " [0.    0.    0.044 0.    0.003 0.007 **0.946**]<br>\n",
        " [0.    0.    0.034 **0.935** 0.    0.015 0.016]<br>\n",
        " [0.011 0.076 0.306 0.007 0.034 **0.567** 0.   ]<br>\n",
        " [0.    0.001 **0.904** 0.002 0.    0.089 0.002]]"
      ]
    },
    {
      "cell_type": "code",
      "metadata": {
        "colab": {
          "base_uri": "https://localhost:8080/"
        },
        "id": "51pIW5_WyuTO",
        "outputId": "65931019-393a-4890-e94a-526b30693ba4"
      },
      "source": [
        "print(lr.classes_)"
      ],
      "execution_count": 23,
      "outputs": [
        {
          "output_type": "stream",
          "name": "stdout",
          "text": [
            "['apple' 'banana' 'grape' 'melon' 'orange' 'pear' 'plum']\n"
          ]
        }
      ]
    },
    {
      "cell_type": "code",
      "metadata": {
        "colab": {
          "base_uri": "https://localhost:8080/"
        },
        "id": "Wko-kAAozTUF",
        "outputId": "9bd4f0e9-08c0-45e0-e2df-964d0da5a034"
      },
      "source": [
        "# coef_ : 기울기\n",
        "# intercept_ : 절편\n",
        "print(lr.coef_.shape,lr.intercept_.shape)"
      ],
      "execution_count": 24,
      "outputs": [
        {
          "output_type": "stream",
          "name": "stdout",
          "text": [
            "(7, 5) (7,)\n"
          ]
        }
      ]
    },
    {
      "cell_type": "markdown",
      "metadata": {
        "id": "jhIgME-Hz0cw"
      },
      "source": [
        "7개의 행과 5개의 열이 있는 행렬<br><br>\n",
        "5개 : 특성과 곱해지는 계수<br>\n",
        "\n",
        "7개 : 클래스마다 선형 함수가 하나씩 만들어짐. 즉, z값이 클래스마다 만들어지는 것<br><br>\n",
        "7개의 선형 함수를 만들어서 샘플에 대해서 7개의 함수를 통과시켜서 나오는 값 중 가장 큰 값이 예측 클래스가 되는 것.<br>\n",
        "각 클래스를 제외하고는 모두 <u>이진 분류</u>처럼 구한다. <br>\n",
        "[0. 0.003 **0.841** 0. 0.014 0.136 0.007]를 구하는 경우에는\n",
        "세번째 클래스는 양성, 나머지 클래스는 모두 음성으로 두고 값을 계산해서 나온 값이 확률을 구하는데 쓰인다.<br><br>\n",
        "\n",
        "7개의 z를 어떻게 확률 변수로 바꿀 수 있을까?<br>\n",
        "z를 모두 시그모이드로 바꾸면 7개의 시그모이드의 합이 1이 되어야 한다.<br>\n",
        "→ 보통 1이 안됨...\n",
        "<br>\n",
        "그래서 사용하는 것이 \n",
        "### 소프트맥스 함수"
      ]
    },
    {
      "cell_type": "code",
      "metadata": {
        "colab": {
          "base_uri": "https://localhost:8080/"
        },
        "id": "aap_U-yXzyim",
        "outputId": "82109304-d2ac-4caa-bdb1-b826522cbdea"
      },
      "source": [
        "decision = lr.decision_function(test_scaled[:5])\n",
        "print(np.round(decision,decimals=2))"
      ],
      "execution_count": 26,
      "outputs": [
        {
          "output_type": "stream",
          "name": "stdout",
          "text": [
            "[[ -6.5   -0.63   5.16  -2.73   1.03   3.34   0.33]\n",
            " [-10.86  -4.26   4.77  -2.4    1.93   2.98   7.84]\n",
            " [ -4.34  -3.87   3.17   6.49  -6.23   2.36   2.42]\n",
            " [ -0.68   1.26   2.65  -1.19   0.45   3.26  -5.75]\n",
            " [ -6.4   -0.71   5.82  -0.11  -1.99   3.5   -0.11]]\n"
          ]
        }
      ]
    },
    {
      "cell_type": "markdown",
      "metadata": {
        "id": "2hGJkI826fqB"
      },
      "source": [
        "소프트맥스 함수는 z값을 지수함수(e)에 적용한다.<br>\n",
        "[ -6.5&emsp; -0.63&emsp;5.16&emsp;-2.73 &emsp;1.03&emsp;3.34&emsp;0.33]<br>\n",
        "z0&emsp;&emsp;z1 &emsp;&emsp; z2 &emsp;&emsp;z3&emsp;&emsp;z4 &emsp;&emsp;z5&emsp;&emsp;z6\n",
        "<br><br>\n",
        "s0 = (e^z0)/e_sum <br>\n",
        "s1 = (e^z1)/e_sum <br>\n",
        "...<br>\n",
        "s0 + s1 + ... + s6 = 1"
      ]
    },
    {
      "cell_type": "code",
      "metadata": {
        "colab": {
          "base_uri": "https://localhost:8080/"
        },
        "id": "9KRwboLo6NeU",
        "outputId": "8819e582-bfb2-4a62-fa81-020ab41cd435"
      },
      "source": [
        "from scipy.special import softmax\n",
        "\n",
        "proba = softmax(decision, axis = 1)\n",
        "print(np.round(proba,decimals=3))"
      ],
      "execution_count": 28,
      "outputs": [
        {
          "output_type": "stream",
          "name": "stdout",
          "text": [
            "[[0.    0.003 0.841 0.    0.014 0.136 0.007]\n",
            " [0.    0.    0.044 0.    0.003 0.007 0.946]\n",
            " [0.    0.    0.034 0.935 0.    0.015 0.016]\n",
            " [0.011 0.076 0.306 0.007 0.034 0.567 0.   ]\n",
            " [0.    0.001 0.904 0.002 0.    0.089 0.002]]\n"
          ]
        }
      ]
    },
    {
      "cell_type": "markdown",
      "metadata": {
        "id": "0IaNaPmu8Xev"
      },
      "source": [
        "다중분류_LogisticRegression을 이용해 출력한 확률값과 동일한 확률값이 출력됨"
      ]
    }
  ]
}