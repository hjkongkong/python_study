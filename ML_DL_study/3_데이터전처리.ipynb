{
  "nbformat": 4,
  "nbformat_minor": 0,
  "metadata": {
    "colab": {
      "name": "3_데이터전처리.ipynb",
      "provenance": [],
      "collapsed_sections": []
    },
    "kernelspec": {
      "name": "python3",
      "display_name": "Python 3"
    },
    "language_info": {
      "name": "python"
    }
  },
  "cells": [
    {
      "cell_type": "code",
      "metadata": {
        "id": "5nkjgwz3qka8"
      },
      "source": [
        "fruit_length = [5.4, 6.3, 6.5, 6.6, 7.4, 7.7, 8.0, 8.7, 10.0, 10.7, 11.0, 11.0, 11.5, 12.0, 12.0, 12.0, 13.0, 13.0, 13.5, 13.5,\n",
        "                14.0,14.0, 14.5, 15.0, 15.0, 15.0, 15.0, 16.0, 16.0, 17.0, 18.5, 18.5, 19.5, 11.0, 11.0\n",
        "                , 1.8, 2.5, 2.6, 2.0, 2.2, 2.3, 2.8, 2.8, 2.0, 2.2, 2.4, 2.0, 2.3, 2.0]\n",
        "fruit_weight = [22.0, 27.0, 29.0, 30.0, 33.0, 41.0, 50.0, 49.0, 45.0, 50.0, 47.0, 50.0, 50.0, 44.0, 60.0, 60.0, 70.0, 70.0, 61.0, 65.0, \n",
        "                57.0,68.0, 62.0, 68.0, 70.0, 72.0, 72.0, 71.0, 85.0, 90.0, 92.0, 95.0, 92.0, 57.0, 55.0\n",
        "                ,1.7, 2.0, 2.0, 1.7, 2.8, 1.7, 2.1, 2.3, 1.8, 2.2, 1.9, 2.2, 2.3, 1.9]"
      ],
      "execution_count": 1,
      "outputs": []
    },
    {
      "cell_type": "code",
      "metadata": {
        "id": "pAbhP_sJvEGH"
      },
      "source": [
        "import numpy as np"
      ],
      "execution_count": 2,
      "outputs": []
    },
    {
      "cell_type": "code",
      "metadata": {
        "id": "_Q6PNoiqvH-O"
      },
      "source": [
        "fruit_data = np.column_stack((fruit_length,fruit_weight))"
      ],
      "execution_count": 3,
      "outputs": []
    },
    {
      "cell_type": "markdown",
      "metadata": {
        "id": "yg3cl4lpwAA0"
      },
      "source": [
        "column_stack : 주어진 배열을 나란히 세운 후 열로 붙여준다<br>\n",
        "1 0<br>\n",
        "1 0<br>\n",
        "1 0<br>\n",
        "1 0<br><br>\n",
        "\n",
        "row_stack : 주어진 배열을 행으로 붙여준다.<br>1 1 1 1<br>0 0 0 0<br><br>\n",
        "concatenate : 주어진 배열을 길게 붙여준다.<br>1 1 1 1 0 0 0 0\n"
      ]
    },
    {
      "cell_type": "code",
      "metadata": {
        "id": "Og3ovTU6vyzF"
      },
      "source": [
        "fruit_target = np.concatenate((np.ones(35), np.zeros(14)))\n",
        "# fruit_target = [1]*35 + [0]*14"
      ],
      "execution_count": 4,
      "outputs": []
    },
    {
      "cell_type": "code",
      "metadata": {
        "colab": {
          "base_uri": "https://localhost:8080/"
        },
        "id": "TWFmZmxWxTxp",
        "outputId": "d9fdd3de-8120-4a1b-e76f-78123f060c85"
      },
      "source": [
        "# 예시\n",
        "# 1,0이 아닌 특정 값으로 채워진 배열 - 9로 채워진 2x3 배열 만들기\n",
        "np.full((2,3),9)"
      ],
      "execution_count": 5,
      "outputs": [
        {
          "output_type": "execute_result",
          "data": {
            "text/plain": [
              "array([[9, 9, 9],\n",
              "       [9, 9, 9]])"
            ]
          },
          "metadata": {},
          "execution_count": 5
        }
      ]
    },
    {
      "cell_type": "markdown",
      "metadata": {
        "id": "6eE2grhvx0xu"
      },
      "source": [
        "## 사이킷런으로 데이터 나누기\n",
        "훈련 세트와 테스트 세트 나누기\n",
        "\n",
        "- sklearn의 model_selection밑에 train_test_split 함수로 제공\n",
        "\n",
        "- 데이터와 타켓을 한 번에 전달해서 훈련 세트와 테스트 세트로 나눌 수 있음\n",
        "\n",
        "- 여러 개의 배열을 더 넣을 수 있지만 입력/타켓 데이터로 나누는 경우가 대부분이기때문에 두 개를 넣는 경우가 많다.\n",
        "\n",
        "- stratify : 분류일 경우 샘플링 편향이 생기지 않도록 타켓 클래스가 골고루 섞여야하기때문에  **타켓 배열**을 전달해주면 그 타겟 배열을 보고 타켓 값이 골고루 섞이도록 훈련 세트와 테스트 세트를 나누어준다."
      ]
    },
    {
      "cell_type": "code",
      "metadata": {
        "id": "4eEzKIiixpIk"
      },
      "source": [
        "from sklearn.model_selection import train_test_split"
      ],
      "execution_count": 6,
      "outputs": []
    },
    {
      "cell_type": "code",
      "metadata": {
        "id": "ZA4x0tRlyxA9"
      },
      "source": [
        "train_input, test_input, train_target, test_target = train_test_split(fruit_data,fruit_target,stratify=fruit_target,random_state=42)"
      ],
      "execution_count": 7,
      "outputs": []
    },
    {
      "cell_type": "code",
      "metadata": {
        "colab": {
          "base_uri": "https://localhost:8080/"
        },
        "id": "hYYP7y9QzGqT",
        "outputId": "d6bd6f4a-f4d7-470c-ce25-193ffadb941a"
      },
      "source": [
        "print(train_input.shape,test_input.shape)"
      ],
      "execution_count": 8,
      "outputs": [
        {
          "output_type": "stream",
          "name": "stdout",
          "text": [
            "(36, 2) (13, 2)\n"
          ]
        }
      ]
    },
    {
      "cell_type": "code",
      "metadata": {
        "colab": {
          "base_uri": "https://localhost:8080/"
        },
        "id": "a30ZP_7xzsnU",
        "outputId": "e64b9fbc-8923-4343-818e-99abdab7a174"
      },
      "source": [
        "print(train_target.shape,test_target.shape)"
      ],
      "execution_count": 9,
      "outputs": [
        {
          "output_type": "stream",
          "name": "stdout",
          "text": [
            "(36,) (13,)\n"
          ]
        }
      ]
    },
    {
      "cell_type": "markdown",
      "metadata": {
        "id": "l7c_qo4sz2p5"
      },
      "source": [
        "### 수상한 값을 넣어서 테스트하자."
      ]
    },
    {
      "cell_type": "code",
      "metadata": {
        "colab": {
          "base_uri": "https://localhost:8080/"
        },
        "id": "qT6mTbXsz1ez",
        "outputId": "1e39a463-c686-4c1b-e40b-1faeb10739c5"
      },
      "source": [
        "from sklearn.neighbors import KNeighborsClassifier\n",
        "\n",
        "kn = KNeighborsClassifier()\n",
        "kn.fit(train_input, train_target)\n",
        "kn.score(test_input, test_target)"
      ],
      "execution_count": 10,
      "outputs": [
        {
          "output_type": "execute_result",
          "data": {
            "text/plain": [
              "1.0"
            ]
          },
          "metadata": {},
          "execution_count": 10
        }
      ]
    },
    {
      "cell_type": "code",
      "metadata": {
        "colab": {
          "base_uri": "https://localhost:8080/"
        },
        "id": "2ziSycSt0XHq",
        "outputId": "53fb4fa3-2c16-4107-c2d5-1d7abb715c10"
      },
      "source": [
        "# 수상한 사과\n",
        "print(kn.predict([[5, 17]]))"
      ],
      "execution_count": 11,
      "outputs": [
        {
          "output_type": "stream",
          "name": "stdout",
          "text": [
            "[0.]\n"
          ]
        }
      ]
    },
    {
      "cell_type": "code",
      "metadata": {
        "id": "vRjRcvg20m2y"
      },
      "source": [
        "import matplotlib.pyplot as plt"
      ],
      "execution_count": 12,
      "outputs": []
    },
    {
      "cell_type": "code",
      "metadata": {
        "colab": {
          "base_uri": "https://localhost:8080/",
          "height": 279
        },
        "id": "rNQCgvg3039K",
        "outputId": "0841fa07-81e9-4a52-d5a1-5684aff89d7f"
      },
      "source": [
        "plt.scatter(train_input[:,0], train_input[:,1])\n",
        "plt.scatter(5, 17, marker='^')\n",
        "plt.xlabel('length')\n",
        "plt.ylabel('weight')\n",
        "plt.show()"
      ],
      "execution_count": 13,
      "outputs": [
        {
          "output_type": "display_data",
          "data": {
            "image/png": "[encoded data removed]",
            "text/plain": [
              "<Figure size 432x288 with 1 Axes>"
            ]
          },
          "metadata": {
            "needs_background": "light"
          }
        }
      ]
    },
    {
      "cell_type": "code",
      "metadata": {
        "colab": {
          "base_uri": "https://localhost:8080/",
          "height": 279
        },
        "id": "jbHmlmUc05Uy",
        "outputId": "b17a5bd9-276f-4d08-c284-8aa1d946e793"
      },
      "source": [
        "# k-최근접 알고리즘이 바라보는 이웃의 인덱스 샘플\n",
        "distances, indexes = kn.kneighbors([[5,16]])\n",
        "\n",
        "plt.scatter(train_input[:,0], train_input[:,1])\n",
        "plt.scatter(5, 17, marker='^')\n",
        "plt.scatter(train_input[indexes,0], train_input[indexes,1], marker='D')\n",
        "plt.xlabel('length')\n",
        "plt.ylabel('weight')\n",
        "plt.show()"
      ],
      "execution_count": 14,
      "outputs": [
        {
          "output_type": "display_data",
          "data": {
            "image/png": "[encoded data removed]",
            "text/plain": [
              "<Figure size 432x288 with 1 Axes>"
            ]
          },
          "metadata": {
            "needs_background": "light"
          }
        }
      ]
    },
    {
      "cell_type": "code",
      "metadata": {
        "colab": {
          "base_uri": "https://localhost:8080/"
        },
        "id": "s_I4hErv1eSS",
        "outputId": "e88457ab-606f-425e-f757-aba28ded35e1"
      },
      "source": [
        "print(train_input[indexes])"
      ],
      "execution_count": 15,
      "outputs": [
        {
          "output_type": "stream",
          "name": "stdout",
          "text": [
            "[[[ 5.4 22. ]\n",
            "  [ 2.2  2.8]\n",
            "  [ 2.3  2.3]\n",
            "  [ 2.2  2.2]\n",
            "  [ 6.6 30. ]]]\n"
          ]
        }
      ]
    },
    {
      "cell_type": "code",
      "metadata": {
        "colab": {
          "base_uri": "https://localhost:8080/"
        },
        "id": "0hr-1HzX1-Mh",
        "outputId": "d87e7c02-e96a-4df6-8a8a-af8cac77d2fd"
      },
      "source": [
        "print(train_target[indexes])"
      ],
      "execution_count": 16,
      "outputs": [
        {
          "output_type": "stream",
          "name": "stdout",
          "text": [
            "[[1. 0. 0. 0. 1.]]\n"
          ]
        }
      ]
    },
    {
      "cell_type": "code",
      "metadata": {
        "colab": {
          "base_uri": "https://localhost:8080/"
        },
        "id": "Ga1NPjGO2AIZ",
        "outputId": "333aaef6-300a-46eb-8125-35e72bcc344c"
      },
      "source": [
        "print(distances)"
      ],
      "execution_count": 17,
      "outputs": [
        {
          "output_type": "stream",
          "name": "stdout",
          "text": [
            "[[ 6.01331855 13.49370223 13.96352391 14.08119313 14.09113196]]\n"
          ]
        }
      ]
    },
    {
      "cell_type": "markdown",
      "metadata": {
        "id": "SPdMrYhN3Sph"
      },
      "source": [
        "### 기준을 맞춰라\n",
        "- x축과 y축의 기준이 다르기때문에 위과 같이 예측하는 것..."
      ]
    },
    {
      "cell_type": "code",
      "metadata": {
        "colab": {
          "base_uri": "https://localhost:8080/",
          "height": 279
        },
        "id": "8hi8R8a22Blh",
        "outputId": "01b87e7d-cc96-4460-9d19-4fa1837e68b6"
      },
      "source": [
        "plt.scatter(train_input[:,0], train_input[:,1])\n",
        "plt.scatter(5, 17, marker='^')\n",
        "plt.scatter(train_input[indexes,0], train_input[indexes,1], marker='D')\n",
        "plt.xlim((0, 100))\n",
        "plt.xlabel('length')\n",
        "plt.ylabel('weight')\n",
        "plt.show()"
      ],
      "execution_count": 18,
      "outputs": [
        {
          "output_type": "display_data",
          "data": {
            "image/png": "[encoded data removed]",
            "text/plain": [
              "<Figure size 432x288 with 1 Axes>"
            ]
          },
          "metadata": {
            "needs_background": "light"
          }
        }
      ]
    },
    {
      "cell_type": "markdown",
      "metadata": {
        "id": "wlFRGhsg4h-K"
      },
      "source": [
        "#### 표준 점수로 바꾸기\n",
        " (특성-평균)/표준편차"
      ]
    },
    {
      "cell_type": "code",
      "metadata": {
        "colab": {
          "base_uri": "https://localhost:8080/"
        },
        "id": "RGYLNuiy3f4o",
        "outputId": "59f52f84-0523-4532-cb3e-e13706c82ba3"
      },
      "source": [
        "mean = np.mean(train_input, axis=0) # 각 특성별로 구하기때문에 (1X2)\n",
        "std = np.std(train_input, axis=0)\n",
        "\n",
        "print(mean, std)"
      ],
      "execution_count": 19,
      "outputs": [
        {
          "output_type": "stream",
          "name": "stdout",
          "text": [
            "[ 9.65833333 44.23888889] [ 5.50118043 30.41133997]\n"
          ]
        }
      ]
    },
    {
      "cell_type": "code",
      "metadata": {
        "colab": {
          "base_uri": "https://localhost:8080/"
        },
        "id": "UyFqe_0_4n-I",
        "outputId": "4b3b3d5a-9d60-4de0-8e0b-ad82d903052c"
      },
      "source": [
        "train_scaled = (train_input - mean) / std\n",
        "train_scaled.shape # 넘파이_브로드캐스팅"
      ],
      "execution_count": 20,
      "outputs": [
        {
          "output_type": "execute_result",
          "data": {
            "text/plain": [
              "(36, 2)"
            ]
          },
          "metadata": {},
          "execution_count": 20
        }
      ]
    },
    {
      "cell_type": "markdown",
      "metadata": {
        "id": "HDJjkdq24_XG"
      },
      "source": [
        "### 전처리 데이터로 모델 훈련하기"
      ]
    },
    {
      "cell_type": "code",
      "metadata": {
        "colab": {
          "base_uri": "https://localhost:8080/",
          "height": 279
        },
        "id": "09fz-zl447_c",
        "outputId": "1795d1fb-1e3a-4353-e933-3a57adafbbd7"
      },
      "source": [
        "plt.scatter(train_scaled[:,0], train_scaled[:,1])\n",
        "plt.scatter(5, 17, marker='^') # 표준점수 스타일로 바꿔야 함\n",
        "plt.xlabel('length')\n",
        "plt.ylabel('weight')\n",
        "plt.show()"
      ],
      "execution_count": 21,
      "outputs": [
        {
          "output_type": "display_data",
          "data": {
            "image/png": "[encoded data removed]",
            "text/plain": [
              "<Figure size 432x288 with 1 Axes>"
            ]
          },
          "metadata": {
            "needs_background": "light"
          }
        }
      ]
    },
    {
      "cell_type": "code",
      "metadata": {
        "id": "2wOOlaov5EWg"
      },
      "source": [
        "# 훈련 데이터의 평균과 표준편차로 test set을 바꿔야함\n",
        "new = ([5, 17] - mean) / std"
      ],
      "execution_count": 22,
      "outputs": []
    },
    {
      "cell_type": "code",
      "metadata": {
        "colab": {
          "base_uri": "https://localhost:8080/",
          "height": 279
        },
        "id": "ecAg8ylD5Fd4",
        "outputId": "4c676640-dc37-400b-d763-8480ded2374d"
      },
      "source": [
        "plt.scatter(train_scaled[:,0], train_scaled[:,1])\n",
        "plt.scatter(new[0], new[1], marker='^')\n",
        "plt.xlabel('length')\n",
        "plt.ylabel('weight')\n",
        "plt.show()"
      ],
      "execution_count": 23,
      "outputs": [
        {
          "output_type": "display_data",
          "data": {
            "image/png": "[encoded data removed]",
            "text/plain": [
              "<Figure size 432x288 with 1 Axes>"
            ]
          },
          "metadata": {
            "needs_background": "light"
          }
        }
      ]
    },
    {
      "cell_type": "code",
      "metadata": {
        "colab": {
          "base_uri": "https://localhost:8080/"
        },
        "id": "lLExzlV75QN_",
        "outputId": "78da5d1d-a122-46d2-9123-9aed80b3c45b"
      },
      "source": [
        "kn.fit(train_scaled, train_target)"
      ],
      "execution_count": 24,
      "outputs": [
        {
          "output_type": "execute_result",
          "data": {
            "text/plain": [
              "KNeighborsClassifier(algorithm='auto', leaf_size=30, metric='minkowski',\n",
              "                     metric_params=None, n_jobs=None, n_neighbors=5, p=2,\n",
              "                     weights='uniform')"
            ]
          },
          "metadata": {},
          "execution_count": 24
        }
      ]
    },
    {
      "cell_type": "code",
      "metadata": {
        "id": "NSZTJ5RW5Rd3"
      },
      "source": [
        "test_scaled = (test_input - mean) / std"
      ],
      "execution_count": 25,
      "outputs": []
    },
    {
      "cell_type": "code",
      "metadata": {
        "colab": {
          "base_uri": "https://localhost:8080/"
        },
        "id": "6uJ5AwcL5T2P",
        "outputId": "e7325ee3-62ea-4b34-ae15-4547ddfa35b0"
      },
      "source": [
        "kn.score(test_scaled, test_target)"
      ],
      "execution_count": 26,
      "outputs": [
        {
          "output_type": "execute_result",
          "data": {
            "text/plain": [
              "1.0"
            ]
          },
          "metadata": {},
          "execution_count": 26
        }
      ]
    },
    {
      "cell_type": "code",
      "metadata": {
        "colab": {
          "base_uri": "https://localhost:8080/"
        },
        "id": "yLSuB0Aw5U3v",
        "outputId": "0514d88e-8786-4113-a009-c17e62e60d3d"
      },
      "source": [
        "print(kn.predict([new]))"
      ],
      "execution_count": 27,
      "outputs": [
        {
          "output_type": "stream",
          "name": "stdout",
          "text": [
            "[1.]\n"
          ]
        }
      ]
    },
    {
      "cell_type": "markdown",
      "metadata": {
        "id": "RB8GhviwAgjz"
      },
      "source": [
        "전처리는 아주 중요하고 지루한 작업<br>\n",
        "전처리가 필요하지 않은 모델은 tree 기반 모델들"
      ]
    }
  ]
}