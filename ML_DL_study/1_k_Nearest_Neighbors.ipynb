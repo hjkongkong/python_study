{
  "nbformat": 4,
  "nbformat_minor": 0,
  "metadata": {
    "colab": {
      "name": "1_k-Nearest Neighbors.ipynb",
      "provenance": [],
      "collapsed_sections": [],
      "authorship_tag": "ABX9TyO3uhF6ojPvk9EIltDfGbAk"
    },
    "kernelspec": {
      "name": "python3",
      "display_name": "Python 3"
    },
    "language_info": {
      "name": "python"
    }
  },
  "cells": [
    {
      "cell_type": "code",
      "metadata": {
        "id": "Xpvo9V0naGDU"
      },
      "source": [
        "# 각각의 데이터들을 샘플이라고 부른다. 이 샘플들의 길이, 무게 등은 특성(속성)이라고 한다.\n",
        "apple_length = [5.4, 6.3, 6.5, 9.0, 9.0, 9.7, 9.7, 10.0, 10.0, 10.7, 11.0, 11.0, 11.5, 12.0, 12.0, 12.0, 13.0, 13.0, 13.5, 13.5,\n",
        "                14.0,14.0, 14.5, 15.0, 15.0, 15.0, 15.0, 16.0, 16.0, 17.0, 18.5, 18.5, 19.5, 11.0, 11.0]\n",
        "apple_weight = [24.0, 29.0, 34.0, 36.0, 43.0, 45.0, 50.0, 49.0, 45.0, 50.0, 47.0, 50.0, 50.0, 44.0, 60.0, 60.0, 70.0, 70.0, 61.0, 65.0, \n",
        "                57.0,68.0, 62.0, 68.0, 70.0, 72.0, 72.0, 71.0, 85.0, 90.0, 92.0, 95.0, 92.0, 57.0, 55.0]"
      ],
      "execution_count": 1,
      "outputs": []
    },
    {
      "cell_type": "code",
      "metadata": {
        "colab": {
          "base_uri": "https://localhost:8080/",
          "height": 279
        },
        "id": "NIfEqzEimto9",
        "outputId": "70ca2b61-a36c-4ed1-bfef-897a6b869b2b"
      },
      "source": [
        "# 샘플을 이용한 산점도\n",
        "import matplotlib.pyplot as plt\n",
        "\n",
        "plt.scatter(apple_length, apple_weight)\n",
        "plt.xlabel('length')\n",
        "plt.ylabel('weight')\n",
        "plt.show()"
      ],
      "execution_count": 2,
      "outputs": [
        {
          "output_type": "display_data",
          "data": {
            "image/png": "[encoded data removed]",
            "text/plain": [
              "<Figure size 432x288 with 1 Axes>"
            ]
          },
          "metadata": {
            "needs_background": "light"
          }
        }
      ]
    },
    {
      "cell_type": "code",
      "metadata": {
        "id": "8mqmbBl1nStJ"
      },
      "source": [
        "plum_length = [1.8, 2.5, 2.6, 2.0, 2.2, 2.3, 2.8, 2.8, 2.0, 2.2, 2.4, 2.0, 2.3, 2.0]\n",
        "plum_weight = [1.7, 2.0, 2.0, 1.7, 2.8, 1.7, 2.1, 2.3, 1.8, 2.2, 1.9, 2.2, 2.3, 1.9]"
      ],
      "execution_count": 3,
      "outputs": []
    },
    {
      "cell_type": "code",
      "metadata": {
        "colab": {
          "base_uri": "https://localhost:8080/",
          "height": 279
        },
        "id": "7yFKPWDupqCa",
        "outputId": "ad59145a-4fba-4409-bf3d-7b9acd3a8ee2"
      },
      "source": [
        "# 산점도를 두개 연속으로 쓰면 합쳐준다.\n",
        "plt.scatter(apple_length,apple_weight)\n",
        "plt.scatter(plum_length,plum_weight)\n",
        "plt.xlabel('length')\n",
        "plt.ylabel('weight')\n",
        "plt.show()"
      ],
      "execution_count": 4,
      "outputs": [
        {
          "output_type": "display_data",
          "data": {
            "image/png": "[encoded data removed]",
            "text/plain": [
              "<Figure size 432x288 with 1 Axes>"
            ]
          },
          "metadata": {
            "needs_background": "light"
          }
        }
      ]
    },
    {
      "cell_type": "markdown",
      "metadata": {
        "id": "02LRMFwZqOQe"
      },
      "source": [
        "두 개의 데이터를 하나의 데이터로 합친다.\n"
      ]
    },
    {
      "cell_type": "code",
      "metadata": {
        "id": "nsg2WSfNp_cr"
      },
      "source": [
        "# 리스트 변수의 덧셈연산은 두 리스트를 합쳐 하나의 리스트로 만든다.\n",
        "# 연산자 오버로딩\n",
        "length = apple_length + plum_length\n",
        "weight = apple_weight + plum_weight"
      ],
      "execution_count": 6,
      "outputs": []
    },
    {
      "cell_type": "code",
      "metadata": {
        "id": "luibB017q8xT"
      },
      "source": [
        "# 사이킷런이 기대하는 데이터 형태로 가공\n",
        "# 리스트의 리스트, 2차원 배열\n",
        "# List comprehension을 사용\n",
        "fruit_data = [[l,w] for l,w in zip(length, weight)]"
      ],
      "execution_count": 7,
      "outputs": []
    },
    {
      "cell_type": "code",
      "metadata": {
        "colab": {
          "base_uri": "https://localhost:8080/"
        },
        "id": "xjXxgjo4rtyl",
        "outputId": "851cb64c-0192-48a9-c1d4-dfac4ea8a0e2"
      },
      "source": [
        "print(fruit_data)"
      ],
      "execution_count": 8,
      "outputs": [
        {
          "output_type": "stream",
          "name": "stdout",
          "text": [
            "[[5.4, 24.0], [6.3, 29.0], [6.5, 34.0], [9.0, 36.0], [9.0, 43.0], [9.7, 45.0], [9.7, 50.0], [10.0, 49.0], [10.0, 45.0], [10.7, 50.0], [11.0, 47.0], [11.0, 50.0], [11.5, 50.0], [12.0, 44.0], [12.0, 60.0], [12.0, 60.0], [13.0, 70.0], [13.0, 70.0], [13.5, 61.0], [13.5, 65.0], [14.0, 57.0], [14.0, 68.0], [14.5, 62.0], [15.0, 68.0], [15.0, 70.0], [15.0, 72.0], [15.0, 72.0], [16.0, 71.0], [16.0, 85.0], [17.0, 90.0], [18.5, 92.0], [18.5, 95.0], [19.5, 92.0], [11.0, 57.0], [11.0, 55.0], [1.8, 1.7], [2.5, 2.0], [2.6, 2.0], [2.0, 1.7], [2.2, 2.8], [2.3, 1.7], [2.8, 2.1], [2.8, 2.3], [2.0, 1.8], [2.2, 2.2], [2.4, 1.9], [2.0, 2.2], [2.3, 2.3], [2.0, 1.9]]\n"
          ]
        }
      ]
    },
    {
      "cell_type": "code",
      "metadata": {
        "colab": {
          "base_uri": "https://localhost:8080/"
        },
        "id": "5M-La0LArwVp",
        "outputId": "af5c60ba-d5a0-4934-80ff-bf5b33d506c7"
      },
      "source": [
        "len(fruit_data)"
      ],
      "execution_count": 9,
      "outputs": [
        {
          "output_type": "execute_result",
          "data": {
            "text/plain": [
              "49"
            ]
          },
          "metadata": {},
          "execution_count": 9
        }
      ]
    },
    {
      "cell_type": "code",
      "metadata": {
        "id": "KtJ_PcnTsZn_"
      },
      "source": [
        "# 정답을 준비해야한다. - 지도학습\n",
        "fruit_target = [1]*35 + [0]*14"
      ],
      "execution_count": 10,
      "outputs": []
    },
    {
      "cell_type": "markdown",
      "metadata": {
        "id": "Lmt8Tinxsi8s"
      },
      "source": [
        "머신러닝은 문자를 직접적으로 이해하지 못한다.\n",
        "<br>사과와 자두를 각각 컴퓨터가 이해할 수 있는 숫자인 1과 0으로 표현을 했다.<br>\n",
        "사이킷 런 등 머신러닝 라이브러리는 2개의 클래스 중 하나를 고르는 경우 **2진분류**를 사용한다.<br>\n",
        "이 때 찾으려는 대상을 1로두고, 이외의 대상은 0으로 둔다.\n"
      ]
    },
    {
      "cell_type": "code",
      "metadata": {
        "colab": {
          "base_uri": "https://localhost:8080/"
        },
        "id": "4jy3aShDsiJt",
        "outputId": "c3dd218c-33b7-40b3-ece1-2b757de42506"
      },
      "source": [
        "# k-Nearest Neighbors (k-최근접 이웃)\n",
        "\n",
        "from sklearn.neighbors import KNeighborsClassifier\n",
        "kn =  KNeighborsClassifier() # Class의 객체를 만든다. - kn을 모델이라고 한다.\n",
        "kn.fit(fruit_data, fruit_target) # 이 두 데이터를 가지고 머신러닝 모델을 분류\n",
        "kn.score(fruit_data,fruit_target)# 얼마만큼 학습했는지 알아보기 위함.\n",
        "# 1.0이면 100% 다 맞췄다는 것을 뜻한다.(정확도)"
      ],
      "execution_count": 11,
      "outputs": [
        {
          "output_type": "execute_result",
          "data": {
            "text/plain": [
              "1.0"
            ]
          },
          "metadata": {},
          "execution_count": 11
        }
      ]
    },
    {
      "cell_type": "markdown",
      "metadata": {
        "id": "ny7HEhZ6wF4E"
      },
      "source": [
        "**새로운 과일 데이터 예측**"
      ]
    },
    {
      "cell_type": "code",
      "metadata": {
        "colab": {
          "base_uri": "https://localhost:8080/"
        },
        "id": "NDTEp9xovdxG",
        "outputId": "3ad0b077-fbc7-49b0-ac93-804236a4b984"
      },
      "source": [
        "# 길이가 15.1이고 무게가 65.0인 과일 - 사과\n",
        "kn.predict([[15.1,65.0]])\n",
        "# fit(2차원 배열 리스트)를 주었기 때문에 2차원 배열로 값을 주어야 함"
      ],
      "execution_count": 13,
      "outputs": [
        {
          "output_type": "execute_result",
          "data": {
            "text/plain": [
              "array([1])"
            ]
          },
          "metadata": {},
          "execution_count": 13
        }
      ]
    },
    {
      "cell_type": "markdown",
      "metadata": {
        "id": "2GWuyT3Awu4L"
      },
      "source": [
        "array([1]) --> 사과임을 예측함<br>\n",
        "array값으로 반환되는 이유는 사이킷런이 ndarray 타입으로 반환하기 때문\n",
        "<br><br><br>\n",
        "k-최근접이웃은 주변에 있는 k개의 샘플을 보고 가장 가까운 애들을 답으로 내놓는다.<br>\n",
        "예측하고자 하는 데이터에 가까운 데이터가 3개가 사과고 2개가 자두라면 k-최근접 이웃은 사과라고 예측하는 방식이다.(k의 디폴트값은 5이다.)"
      ]
    },
    {
      "cell_type": "code",
      "metadata": {
        "colab": {
          "base_uri": "https://localhost:8080/"
        },
        "id": "r2LNn1RJwQNQ",
        "outputId": "ebd49a96-c76f-40be-f466-f85334caed47"
      },
      "source": [
        "# 주변에 바라보는 샘플은 n_neighbors라는 매개변수를 통해 설정할 수 있다.\n",
        "# 무조건 사과라고 예측하는 프로그램을 만들어보자. - 전체샘플을 다 바라보는 프로그램\n",
        "kn49 = KNeighborsClassifier(n_neighbors=49)\n",
        "kn49.fit(fruit_data, fruit_target)\n",
        "kn49.score(fruit_data,fruit_target)"
      ],
      "execution_count": 14,
      "outputs": [
        {
          "output_type": "execute_result",
          "data": {
            "text/plain": [
              "0.7142857142857143"
            ]
          },
          "metadata": {},
          "execution_count": 14
        }
      ]
    },
    {
      "cell_type": "code",
      "metadata": {
        "colab": {
          "base_uri": "https://localhost:8080/"
        },
        "id": "jUb0Oa98ycUJ",
        "outputId": "affbdd9b-0ace-491c-e0c3-ae9decc17e54"
      },
      "source": [
        "print(35/49)"
      ],
      "execution_count": 15,
      "outputs": [
        {
          "output_type": "stream",
          "name": "stdout",
          "text": [
            "0.7142857142857143\n"
          ]
        }
      ]
    }
  ]
}