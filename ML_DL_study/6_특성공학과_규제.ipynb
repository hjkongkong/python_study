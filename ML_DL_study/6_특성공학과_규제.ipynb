{
  "nbformat": 4,
  "nbformat_minor": 0,
  "metadata": {
    "colab": {
      "name": "6_특성공학과_규제.ipynb",
      "provenance": [],
      "collapsed_sections": []
    },
    "kernelspec": {
      "name": "python3",
      "display_name": "Python 3"
    },
    "language_info": {
      "name": "python"
    }
  },
  "cells": [
    {
      "cell_type": "markdown",
      "metadata": {
        "id": "Ba8LJd53DOtq"
      },
      "source": [
        "## 다중 회귀\n",
        "Multiple Regression<br>\n",
        "여러개의 변수를 사용하는 회귀<br>\n",
        "multinomial<br><br>\n",
        "특성이 한개이면 2차원 공간, 2개이면 3차원 공간에서 표현 가능\n",
        "<br> 그 이상이라면..?<br><br>\n",
        "새로운 특성을 추가하거나, 조합하는 것을 일반적으로 **특성 공학**이라고 한다.<br>머신러닝 알고리즘은 특성공학에 영향을 많이 받는 편이다.\n"
      ]
    },
    {
      "cell_type": "markdown",
      "metadata": {
        "id": "sfXJzlmqZqv5"
      },
      "source": [
        "\n",
        "--------------------------------------------------------\n",
        "\n",
        "구글 colab을 이용하여 실습을 진행하였다.\n",
        "\n",
        "파일을 업로드하여 불러오도록 하겠다."
      ]
    },
    {
      "cell_type": "code",
      "metadata": {
        "colab": {
          "resources": {
            "http://localhost:8080/nbextensions/google.colab/files.js": {
              "data": "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",
              "ok": true,
              "headers": [
                [
                  "content-type",
                  "application/javascript"
                ]
              ],
              "status": 200,
              "status_text": ""
            }
          },
          "base_uri": "https://localhost:8080/",
          "height": 76
        },
        "id": "AwmqN3lIZP_o",
        "outputId": "24218760-a346-4719-e288-239a47726fc2"
      },
      "source": [
        "#파일 업로드하기\n",
        "from google.colab import files\n",
        "myfile = files.upload()"
      ],
      "execution_count": 1,
      "outputs": [
        {
          "output_type": "display_data",
          "data": {
            "text/html": [
              "\n",
              "     <input type=\"file\" id=\"files-7f61b557-3d09-48a4-8935-51b737fc1d6c\" name=\"files[]\" multiple disabled\n",
              "        style=\"border:none\" />\n",
              "     <output id=\"result-7f61b557-3d09-48a4-8935-51b737fc1d6c\">\n",
              "      Upload widget is only available when the cell has been executed in the\n",
              "      current browser session. Please rerun this cell to enable.\n",
              "      </output>\n",
              "      <script src=\"/nbextensions/google.colab/files.js\"></script> "
            ],
            "text/plain": [
              "<IPython.core.display.HTML object>"
            ]
          },
          "metadata": {}
        },
        {
          "output_type": "stream",
          "name": "stdout",
          "text": [
            "Saving zucchini.csv to zucchini.csv\n"
          ]
        }
      ]
    },
    {
      "cell_type": "markdown",
      "metadata": {
        "id": "z8WwbmuNaNZk"
      },
      "source": [
        "zucchini.csv(application/vnd.ms-excel) - 1104 bytes, last modified: 2021. 11. 14. - 100% done\n",
        "Saving zucchini.csv to zucchini.csv\n",
        "<br> 업로드 됨"
      ]
    },
    {
      "cell_type": "code",
      "metadata": {
        "id": "mwrp7NRaaAcm"
      },
      "source": [
        "#io와 pandas 모듈 import\n",
        "import io\n",
        "import pandas as pd"
      ],
      "execution_count": 2,
      "outputs": []
    },
    {
      "cell_type": "markdown",
      "metadata": {
        "id": "RFS7g9xbafcZ"
      },
      "source": [
        "코랩에서는 io모듈을 import 하지 않은 상태에서 pandas를 사용할 경우 오류 발생한다."
      ]
    },
    {
      "cell_type": "code",
      "metadata": {
        "id": "S7EQq2a9ae9l"
      },
      "source": [
        "#pd.read_csv로 csv파일 불러오기\n",
        "df = pd.read_csv(io.BytesIO(myfile['zucchini.csv']))\n",
        "zucchini_full = df.to_numpy()"
      ],
      "execution_count": 4,
      "outputs": []
    },
    {
      "cell_type": "markdown",
      "metadata": {
        "id": "ZYKXvIbxaxHr"
      },
      "source": [
        "코랩에 업로드하여 파일 읽어오기 완료\n",
        "\n",
        "-------------------------------------"
      ]
    },
    {
      "cell_type": "code",
      "metadata": {
        "id": "_Y4LTniwawMl"
      },
      "source": [
        "# 주피터 노트북에서 진행한다면\n",
        "#import pandas as pd\n",
        "#df = pd.read_csv('./zucchini.csv'))\n",
        "#zucchini_full = df.to_numpy()"
      ],
      "execution_count": 5,
      "outputs": []
    },
    {
      "cell_type": "markdown",
      "metadata": {
        "id": "KncSYdVFGQbR"
      },
      "source": [
        "CSV 파일 -> 판다스 데이터 프레임 -> 넘파이 배열"
      ]
    },
    {
      "cell_type": "code",
      "metadata": {
        "colab": {
          "base_uri": "https://localhost:8080/"
        },
        "id": "VhuHcI7XGPMF",
        "outputId": "2b5744c5-8aea-4ae8-9fad-ca7ed49e6ecc"
      },
      "source": [
        "print(zucchini_full[:5]) # 다섯개만..."
      ],
      "execution_count": 8,
      "outputs": [
        {
          "output_type": "stream",
          "name": "stdout",
          "text": [
            "[[ 8.4   2.11  1.41]\n",
            " [13.7   3.53  2.  ]\n",
            " [15.    3.82  2.43]\n",
            " [16.2   4.59  2.63]\n",
            " [17.4   4.59  2.94]]\n"
          ]
        }
      ]
    },
    {
      "cell_type": "code",
      "metadata": {
        "id": "x8l0jn1uH34_"
      },
      "source": [
        "# 타겟 데이터 만들기\n",
        "import numpy as np\n",
        "\n",
        "zucchini_weight = np.array(\n",
        "    [5.9, 32.0, 40.0, 51.5, 70.0, 100.0, 78.0, 80.0, 85.0, 85.0, \n",
        "     110.0, 115.0, 125.0, 130.0, 120.0, 120.0, 130.0, 135.0, 110.0, \n",
        "     130.0, 150.0, 145.0, 150.0, 170.0, 225.0, 145.0, 188.0, 180.0, \n",
        "     197.0, 218.0, 300.0, 260.0, 265.0, 250.0, 250.0, 300.0, 320.0, \n",
        "     514.0, 556.0, 840.0, 685.0, 700.0, 700.0, 690.0, 900.0, 650.0, \n",
        "     820.0, 850.0, 900.0, 1015.0, 820.0, 1100.0, 1000.0, 1100.0, \n",
        "     1000.0, 1000.0]\n",
        "     )"
      ],
      "execution_count": 10,
      "outputs": []
    },
    {
      "cell_type": "code",
      "metadata": {
        "id": "9_Ncc0U6IGF1"
      },
      "source": [
        "from sklearn.model_selection import train_test_split\n",
        "\n",
        "train_input, test_input, train_target, test_target = train_test_split(zucchini_full, zucchini_weight,random_state=42)"
      ],
      "execution_count": 11,
      "outputs": []
    },
    {
      "cell_type": "markdown",
      "metadata": {
        "id": "ipLFKjb9Hjw5"
      },
      "source": [
        "### 다항 특성 만들기"
      ]
    },
    {
      "cell_type": "code",
      "metadata": {
        "colab": {
          "base_uri": "https://localhost:8080/"
        },
        "id": "1wK0C752GZ7U",
        "outputId": "b4a5e260-246a-435f-ff89-2f9c4381cdca"
      },
      "source": [
        "from sklearn.preprocessing import PolynomialFeatures\n",
        "# 사이킷런 변환기\n",
        "\n",
        "# degree 2\n",
        "poly = PolynomialFeatures() # 객체 만들기\n",
        "poly.fit([[2,3]]) # 훈련\n",
        "# 1(bais), 2, 3, 2**2, 2*3, 3**2\n",
        "print(poly.transform([[2,3]])) # 변환"
      ],
      "execution_count": 13,
      "outputs": [
        {
          "output_type": "stream",
          "name": "stdout",
          "text": [
            "[[1. 2. 3. 4. 6. 9.]]\n"
          ]
        }
      ]
    },
    {
      "cell_type": "markdown",
      "metadata": {
        "id": "tH3b3cHlJy-z"
      },
      "source": [
        "2개의 특성을 가진 [2,3]dl 6개의 특성을 가진 [1. 2. 3. 4. 6. 9.]으로 변환됨.\n",
        "<br><br>\n",
        "훈련(fit)을 해야 변환(transform)을 할 수 있다. -> 이를 한번에 하는 fit_transform도 존재한다.<br>\n",
        "fit이 뭘 학습하는건 아니다..일관성 유지를 위해 변환기 클래스들도 fit 매소드를 사용하는 것.\n",
        "\n",
        "<br>[[**1**. 2. 3. 4. 6. 9.]] -> 1은 왜 생겼을까?<br>\n",
        "y = a * x + b * 1<br>\n",
        "[a,b] * [x,**1**]<br>\n",
        "자동으로 절편을 위한 특성 1을 만들어준다.<br><br>\n",
        "사이킷런 선형모델은 자동으로 절편을 추가하기때문에 굳이 특성 1이 필요 없다.<br>\n",
        "절편을 위한 특성을 빼려면 include_bias=False으로 지정하면 된다.<br>\n",
        "사이킷런 모델은 자동으로 특성에 추가된 절편항을 무시하지만, 혼돈을 피하기 위해 명시적으로 지정.\n"
      ]
    },
    {
      "cell_type": "code",
      "metadata": {
        "colab": {
          "base_uri": "https://localhost:8080/"
        },
        "id": "A974xUw3IC2e",
        "outputId": "8c834382-bed6-46fb-91bb-98551a749f93"
      },
      "source": [
        "poly = PolynomialFeatures(include_bias=False)\n",
        "poly.fit(train_input)\n",
        "train_poly = poly.transform(train_input)\n",
        "print(train_poly.shape) # 크기 확인"
      ],
      "execution_count": 15,
      "outputs": [
        {
          "output_type": "stream",
          "name": "stdout",
          "text": [
            "(42, 9)\n"
          ]
        }
      ]
    },
    {
      "cell_type": "markdown",
      "metadata": {
        "id": "wT9lWQo3Psyj"
      },
      "source": [
        "(42, 9)<br>\n",
        "42개의 샘플, 9개의 특성이 있는 배열"
      ]
    },
    {
      "cell_type": "code",
      "metadata": {
        "colab": {
          "base_uri": "https://localhost:8080/"
        },
        "id": "V-R4CbxXNyfl",
        "outputId": "555aabbb-b277-4ad5-c362-a39b4cc64b8a"
      },
      "source": [
        "# 각각 특성이 어떻게 만들어졌는가(길이, 높이, 두께)\n",
        "poly.get_feature_names()"
      ],
      "execution_count": 19,
      "outputs": [
        {
          "output_type": "execute_result",
          "data": {
            "text/plain": [
              "['x0', 'x1', 'x2', 'x0^2', 'x0 x1', 'x0 x2', 'x1^2', 'x1 x2', 'x2^2']"
            ]
          },
          "metadata": {},
          "execution_count": 19
        }
      ]
    },
    {
      "cell_type": "code",
      "metadata": {
        "id": "xzYAIRopPxd9"
      },
      "source": [
        "# test 변환 - 훈련 set에 사용한 것을 무조건 test set에 사용한다.\n",
        "test_poly = poly.transform(test_input)"
      ],
      "execution_count": 20,
      "outputs": []
    },
    {
      "cell_type": "markdown",
      "metadata": {
        "id": "e6GsAeJ-S9VZ"
      },
      "source": [
        "훈련 set에 사용한 것을 무조건 test set에 사용한다.<br>\n",
        "실수 방지를 위해 이런 습관을 기르자!"
      ]
    },
    {
      "cell_type": "markdown",
      "metadata": {
        "id": "hdSx4JMgQFTp"
      },
      "source": [
        "### 다중 회귀 모델 훈련하기"
      ]
    },
    {
      "cell_type": "code",
      "metadata": {
        "colab": {
          "base_uri": "https://localhost:8080/"
        },
        "id": "mehUB9OwP5EN",
        "outputId": "6c18c190-0cb7-4743-c420-92b0e4f84c62"
      },
      "source": [
        "from sklearn.linear_model import LinearRegression\n",
        "\n",
        "lr = LinearRegression()\n",
        "lr.fit(train_poly, train_target)\n",
        "\n",
        "print(lr.score(train_poly,train_target))\n",
        "print(lr.score(test_poly,test_target))"
      ],
      "execution_count": 21,
      "outputs": [
        {
          "output_type": "stream",
          "name": "stdout",
          "text": [
            "0.9903183436982124\n",
            "0.9714559911594132\n"
          ]
        }
      ]
    },
    {
      "cell_type": "markdown",
      "metadata": {
        "id": "heKRAAGpTNKE"
      },
      "source": [
        "특성을 9개나 넣었기때문에 훈련 세트에 잘 맞는 결과가 나왔다.(복잡한 모델이 만들어짐)"
      ]
    },
    {
      "cell_type": "markdown",
      "metadata": {
        "id": "X913-T25TXdp"
      },
      "source": [
        "### 더 많은 특성 만들기\n",
        "\n",
        "점수를 더 높여보고자 더 많은 특성을 어서 복잡한 모델을 만들어보자."
      ]
    },
    {
      "cell_type": "code",
      "metadata": {
        "colab": {
          "base_uri": "https://localhost:8080/"
        },
        "id": "6AcambFvQhB1",
        "outputId": "471facbc-b092-40e7-b03e-4a12580dc002"
      },
      "source": [
        "poly = PolynomialFeatures(degree=5,include_bias=False)\n",
        "poly.fit(train_input)\n",
        "train_poly = poly.transform(train_input)\n",
        "test_poly = poly.transform(test_input)\n",
        "print(train_poly.shape)"
      ],
      "execution_count": 27,
      "outputs": [
        {
          "output_type": "stream",
          "name": "stdout",
          "text": [
            "(42, 55)\n"
          ]
        }
      ]
    },
    {
      "cell_type": "markdown",
      "metadata": {
        "id": "qobJd_u3TlL3"
      },
      "source": [
        "(42, 55)<br>\n",
        "55개의 특성"
      ]
    },
    {
      "cell_type": "code",
      "metadata": {
        "colab": {
          "base_uri": "https://localhost:8080/"
        },
        "id": "RANVj1W3Tkjl",
        "outputId": "27133ea2-0da3-4f25-85f6-60306e4c0cf6"
      },
      "source": [
        "lr.fit(train_poly, train_target)\n",
        "\n",
        "print(lr.score(train_poly,train_target))"
      ],
      "execution_count": 28,
      "outputs": [
        {
          "output_type": "stream",
          "name": "stdout",
          "text": [
            "0.9999999999991096\n"
          ]
        }
      ]
    },
    {
      "cell_type": "markdown",
      "metadata": {
        "id": "DU_x5gI0UEzQ"
      },
      "source": [
        "거의 완벽한 점수가 나왔다."
      ]
    },
    {
      "cell_type": "code",
      "metadata": {
        "colab": {
          "base_uri": "https://localhost:8080/"
        },
        "id": "n-9d6omVT3gs",
        "outputId": "7b685839-ef01-4a13-beba-0bd1135c9406"
      },
      "source": [
        "print(lr.score(test_poly,test_target))"
      ],
      "execution_count": 29,
      "outputs": [
        {
          "output_type": "stream",
          "name": "stdout",
          "text": [
            "-144.40579242335605\n"
          ]
        }
      ]
    },
    {
      "cell_type": "markdown",
      "metadata": {
        "id": "4blOqHDIUH2m"
      },
      "source": [
        "R^2가 음수가 나옴...<br>\n",
        "훈련세트의 점수와 테스트 세트의 점수가 너무 많이 차이나서 어마어마한 과대적합이 된 것.<br>\n",
        "샘플이 42개인데 특성이 55개이므로..그럴 수 밖에...<br>극도로 과대적합 된 모델을 완화하는 기법 →  **규제**"
      ]
    },
    {
      "cell_type": "markdown",
      "metadata": {
        "id": "oo5-evT1V2Ob"
      },
      "source": [
        "### 규제(Regularization)\n",
        "극도로 과대적합되지 않도록 완화<br>\n",
        "선형모델의 경우 특성에 곱해지는 계수(또는 기울기)의 크기를 작게 만드는 것<br>\n",
        "가중치가 높으면 벌칙을 줘서 가중치를 낮춘다.\n",
        "- 릿지 회귀\n",
        "- 라쏘 회귀\n",
        "\n",
        "\n",
        "<br>\n",
        "\n",
        "#### 규제 전에 표준화\n",
        "\n",
        "z점수, 표준점수"
      ]
    },
    {
      "cell_type": "code",
      "metadata": {
        "id": "s8hcGIPlUAG0"
      },
      "source": [
        "from sklearn.preprocessing import StandardScaler\n",
        "\n",
        "ss = StandardScaler()\n",
        "ss.fit(train_poly)\n",
        "# 훈련 세트에서 사용한 변환기를 이용하여 test 세트까지 변환해야한다!\n",
        "train_scaled = ss.transform(train_poly)\n",
        "test_scaled = ss.transform(test_poly)\n",
        "# 표준점수로 변환한 train_scaled, test_scaled"
      ],
      "execution_count": 31,
      "outputs": []
    },
    {
      "cell_type": "markdown",
      "metadata": {
        "id": "EY8zc2gldbQY"
      },
      "source": [
        "### 릿지 회귀"
      ]
    },
    {
      "cell_type": "code",
      "metadata": {
        "colab": {
          "base_uri": "https://localhost:8080/"
        },
        "id": "n0mAnvDOcOjf",
        "outputId": "756a4524-557d-41bc-fb43-53f495f60b47"
      },
      "source": [
        "from sklearn.linear_model import Ridge\n",
        "ridge = Ridge()\n",
        "ridge.fit(train_scaled, train_target)\n",
        "\n",
        "print(ridge.score(train_scaled, train_target))\n",
        "print(ridge.score(test_scaled, test_target))"
      ],
      "execution_count": 32,
      "outputs": [
        {
          "output_type": "stream",
          "name": "stdout",
          "text": [
            "0.9896101671037343\n",
            "0.9790693977615398\n"
          ]
        }
      ]
    },
    {
      "cell_type": "markdown",
      "metadata": {
        "id": "ZKcxH5W9d3kV"
      },
      "source": [
        "훈련 세트 점수는 조금 낮아졌지만, 많은 특성을 사용했음에도 테스트 세트 점수가 높아졌다.<br>\n",
        "특성은 여전히 55개로 많지만, 릿지 클래스에 넣음으로 가중치가 커지는것(훈련세트에 너무 잘 맞는 것)을 막아 테스트 세트에도 맞도록 규제모델을 만들었다.<br><br>\n",
        "\n",
        "**선형 회귀에 L2 규제를 하는 것이 릿지**<br>\n",
        "\n",
        "L2, 즉 (가중치)^2을 규제로 삼는다. <br>\n",
        "릿지는 모델 객체를 만들 때 alpha 매개변수로 규제 강도를 정한다.\n",
        "<br> alpha 값이 크면 규제 강도가 세지므로 계수 값을 더 줄이고 조금 더 과소적합이 되도록 유도한다. \n",
        "<br>\n",
        "<br>규제 강도에 따라 다른 값이 나오며, 어느 값이 최적의 규제 강도인지는 바꿔보면서 확인해야한다.\n",
        "\n",
        "<br>\n",
        "하이퍼 파라미터 :  사람이 직접 지정해야하는 매개변수\n"
      ]
    },
    {
      "cell_type": "code",
      "metadata": {
        "id": "HmCQBYs1dzLe"
      },
      "source": [
        "# 적절한 alpha 값을 찾기 위해 alpha 값에 대한 R^2 그래프를 그린다.\n",
        "import matplotlib.pyplot as plt\n",
        "\n",
        "train_score = []\n",
        "test_score = []\n",
        "\n",
        "alpha_list = [0.01, 0.1, 1.0, 10, 100]\n",
        "\n",
        "for alpha in alpha_list : \n",
        "  # 릿지 모델 만들기\n",
        "  ridge = Ridge(alpha=alpha)\n",
        "  # 릿지 모델 훈련\n",
        "  ridge.fit(train_scaled,train_target)\n",
        "  # 훈련점수, 테스트 점수를 리스트에 저장\n",
        "  train_score.append(ridge.score(train_scaled,train_target))\n",
        "  test_score.append(ridge.score(test_scaled, test_target))"
      ],
      "execution_count": 33,
      "outputs": []
    },
    {
      "cell_type": "code",
      "metadata": {
        "colab": {
          "base_uri": "https://localhost:8080/"
        },
        "id": "XPPhb5fAlSON",
        "outputId": "557ba2fd-0817-47c3-936f-8c73b4beb768"
      },
      "source": [
        "print(train_score)\n",
        "print(test_score)"
      ],
      "execution_count": 35,
      "outputs": [
        {
          "output_type": "stream",
          "name": "stdout",
          "text": [
            "[0.9917809981250537, 0.9903815817570366, 0.9896101671037343, 0.988728468997471, 0.9841843235774494]\n",
            "[0.980018793687313, 0.9827976465386927, 0.9790693977615398, 0.9725329582461568, 0.9627042641050291]\n"
          ]
        }
      ]
    },
    {
      "cell_type": "markdown",
      "metadata": {
        "id": "pCoTX3PBl0cE"
      },
      "source": [
        "alpha 값을 10의 배수로 놓았기 때문에 log scale으로 바꾼다.<br>\n",
        "바꾸지 않는다면 0.01에서 0.1 사이는 가깝고 10과 100사이는 멀기 때문에 보기 힘들다."
      ]
    },
    {
      "cell_type": "code",
      "metadata": {
        "colab": {
          "base_uri": "https://localhost:8080/",
          "height": 279
        },
        "id": "D4Js-xy6lg1E",
        "outputId": "f1deb979-073c-46db-b71c-a3cdf1c02cdc"
      },
      "source": [
        "plt.plot(np.log10(alpha_list),train_score)\n",
        "plt.plot(np.log10(alpha_list),test_score)\n",
        "plt.xlabel('alpha')\n",
        "plt.ylabel('R^2')\n",
        "plt.show()"
      ],
      "execution_count": 36,
      "outputs": [
        {
          "output_type": "display_data",
          "data": {
            "image/png": "[encoded data removed]",
            "text/plain": [
              "<Figure size 432x288 with 1 Axes>"
            ]
          },
          "metadata": {
            "needs_background": "light"
          }
        }
      ]
    },
    {
      "cell_type": "markdown",
      "metadata": {
        "id": "35_n71riml3L"
      },
      "source": [
        "파란색 - 훈련세트 그래프<br>\n",
        "주황색 - 테스트 세트 그래프<br>\n",
        "\n",
        "<--과대적합   &nbsp; **0.1** &nbsp;   과소적합 -->\n",
        "<br>\n",
        "alpha 값이 0.1일 때 가장 점수가 적절히 나온다."
      ]
    },
    {
      "cell_type": "code",
      "metadata": {
        "colab": {
          "base_uri": "https://localhost:8080/"
        },
        "id": "ycWQ0MFqmjdd",
        "outputId": "b29c5fd9-3c45-4234-96d3-abe58c606f1f"
      },
      "source": [
        "ridge = Ridge(alpha=0.1)\n",
        "ridge.fit(train_scaled, train_target)\n",
        "\n",
        "print(ridge.score(train_scaled, train_target))\n",
        "print(ridge.score(test_scaled, test_target))"
      ],
      "execution_count": 37,
      "outputs": [
        {
          "output_type": "stream",
          "name": "stdout",
          "text": [
            "0.9903815817570366\n",
            "0.9827976465386927\n"
          ]
        }
      ]
    },
    {
      "cell_type": "markdown",
      "metadata": {
        "id": "rVHjGPI9nC_x"
      },
      "source": [
        "훈련 세트와 테스트 세트의 점수가 비슷하게 높고,<br> 과대적합과 과소적합 사이에 균형을 맞추고 있는 점수가 나왔다."
      ]
    },
    {
      "cell_type": "markdown",
      "metadata": {
        "id": "aI5QnXxcnxzz"
      },
      "source": [
        "### 라쏘 회귀\n",
        "**선형 회귀에 L1 규제를 하는 것이 라쏘**\n",
        "\n",
        "L1, 즉 가중치의 절대값을 규제로 삼는다."
      ]
    },
    {
      "cell_type": "code",
      "metadata": {
        "colab": {
          "base_uri": "https://localhost:8080/"
        },
        "id": "nWhk95aXnAL3",
        "outputId": "39e2f528-d9cf-4a35-e66a-536de680863e"
      },
      "source": [
        "from sklearn.linear_model import Lasso\n",
        "lasso = Lasso()\n",
        "lasso.fit(train_scaled, train_target) # 표준점수로 바꾼 훈련 세트를 넣는다.\n",
        "\n",
        "print(lasso.score(train_scaled, train_target))"
      ],
      "execution_count": 38,
      "outputs": [
        {
          "output_type": "stream",
          "name": "stdout",
          "text": [
            "0.9897898972080961\n"
          ]
        }
      ]
    },
    {
      "cell_type": "markdown",
      "metadata": {
        "id": "C6o435_koE0o"
      },
      "source": [
        "과대적합을 잘 억제한 결과를 보여준다."
      ]
    },
    {
      "cell_type": "code",
      "metadata": {
        "colab": {
          "base_uri": "https://localhost:8080/"
        },
        "id": "Sh5SDPJfoDQF",
        "outputId": "07e113e0-161a-490d-f2e7-5a9701e32f3f"
      },
      "source": [
        "print(lasso.score(test_scaled, test_target))"
      ],
      "execution_count": 43,
      "outputs": [
        {
          "output_type": "stream",
          "name": "stdout",
          "text": [
            "0.9800593698421883\n"
          ]
        }
      ]
    },
    {
      "cell_type": "markdown",
      "metadata": {
        "id": "Ek9aPfH7ophr"
      },
      "source": [
        "테스트 점수도 릿지만큼 좋음."
      ]
    },
    {
      "cell_type": "code",
      "metadata": {
        "colab": {
          "base_uri": "https://localhost:8080/"
        },
        "id": "xsW5YkNIoNfV",
        "outputId": "651f92df-0fb3-4cd7-ad8b-e288d4531782"
      },
      "source": [
        "# 적절한 alpha 값을 찾기 위해 alpha 값에 대한 R^2 그래프를 그린다.\n",
        "import matplotlib.pyplot as plt\n",
        "\n",
        "train_score = []\n",
        "test_score = []\n",
        "\n",
        "alpha_list = [0.001,0.01, 0.1, 1.0, 10, 100]\n",
        "\n",
        "for alpha in alpha_list : \n",
        "  # 릿지 모델 만들기\n",
        "  lasso = Lasso(alpha=alpha,max_iter=10000)\n",
        "  # 릿지 모델 훈련\n",
        "  lasso.fit(train_scaled,train_target)\n",
        "  # 훈련점수, 테스트 점수를 리스트에 저장\n",
        "  train_score.append(lasso.score(train_scaled,train_target))\n",
        "  test_score.append(lasso.score(test_scaled, test_target))"
      ],
      "execution_count": 45,
      "outputs": [
        {
          "output_type": "stream",
          "name": "stderr",
          "text": [
            "/usr/local/lib/python3.7/dist-packages/sklearn/linear_model/_coordinate_descent.py:476: ConvergenceWarning: Objective did not converge. You might want to increase the number of iterations. Duality gap: 18778.697957792876, tolerance: 518.2793833333334\n",
            "  positive)\n",
            "/usr/local/lib/python3.7/dist-packages/sklearn/linear_model/_coordinate_descent.py:476: ConvergenceWarning: Objective did not converge. You might want to increase the number of iterations. Duality gap: 12972.821345404844, tolerance: 518.2793833333334\n",
            "  positive)\n"
          ]
        }
      ]
    },
    {
      "cell_type": "markdown",
      "metadata": {
        "id": "mBdApImUqacc"
      },
      "source": [
        "**ConvergenceWarning**이 발생할 수 도 있음<br>\n",
        "라쏘 모델은 최적의 계수를 찾기 위해 반복적인 계산을 수행하는데, 지정한 횟수가 부족할 때 이 경고 발생<br>\n",
        "max_iter=10000을 지정해서 반복 횟수를 충분히 늘림. 필요하면 더 늘릴 수 있으나 이 문제에서는 별 영향을 끼치지 않음."
      ]
    },
    {
      "cell_type": "code",
      "metadata": {
        "colab": {
          "base_uri": "https://localhost:8080/",
          "height": 279
        },
        "id": "NmiICXDboRLt",
        "outputId": "d86eb01c-1f0c-4ae3-fce0-3b5897084d70"
      },
      "source": [
        "plt.plot(np.log10(alpha_list),train_score)\n",
        "plt.plot(np.log10(alpha_list),test_score)\n",
        "plt.xlabel('alpha')\n",
        "plt.ylabel('R^2')\n",
        "plt.show()"
      ],
      "execution_count": 46,
      "outputs": [
        {
          "output_type": "display_data",
          "data": {
            "image/png": "[encoded data removed]",
            "text/plain": [
              "<Figure size 432x288 with 1 Axes>"
            ]
          },
          "metadata": {
            "needs_background": "light"
          }
        }
      ]
    },
    {
      "cell_type": "markdown",
      "metadata": {
        "id": "SfJ-gmKUrAE7"
      },
      "source": [
        "파란색 - 훈련세트 그래프<br>\n",
        "주황색 - 테스트 세트 그래프<br>\n",
        "\n",
        "\n",
        "alpha 값이 10일 때 가장 점수가 적절히 나온다."
      ]
    },
    {
      "cell_type": "code",
      "metadata": {
        "colab": {
          "base_uri": "https://localhost:8080/"
        },
        "id": "ENMU3mIbqK71",
        "outputId": "5c14837c-4ab5-4c10-d97b-faff79227601"
      },
      "source": [
        "lasso = Lasso(alpha=10)\n",
        "lasso.fit(train_scaled, train_target)\n",
        "\n",
        "print(lasso.score(train_scaled, train_target))\n",
        "print(lasso.score(test_scaled, test_target))"
      ],
      "execution_count": 47,
      "outputs": [
        {
          "output_type": "stream",
          "name": "stdout",
          "text": [
            "0.9888067471131867\n",
            "0.9824470598706695\n"
          ]
        }
      ]
    },
    {
      "cell_type": "code",
      "metadata": {
        "colab": {
          "base_uri": "https://localhost:8080/"
        },
        "id": "qstyNOGHryGM",
        "outputId": "bfb5b86f-95e1-4267-bd98-a8901d1cd073"
      },
      "source": [
        "# 라쏘 모델의 특징은 일부 특성을 아예 사용 안 할 수 있음\n",
        "# 특성 * 가중치에서 가중치를 0으로 만들어서 사용 안하는 것\n",
        "# 가중치가 0인것만 찾아서 개수 출력\n",
        "print(np.sum(lasso.coef_ == 0))"
      ],
      "execution_count": 48,
      "outputs": [
        {
          "output_type": "stream",
          "name": "stdout",
          "text": [
            "40\n"
          ]
        }
      ]
    },
    {
      "cell_type": "markdown",
      "metadata": {
        "id": "FczF_62Vso7-"
      },
      "source": [
        "55개의 특성 중 15개만 라쏘 모델에 사용하고 40개는 사용 안한 것<br>\n",
        "일부 특성을 사용 안한 것이 나쁜것은 아니지만.."
      ]
    },
    {
      "cell_type": "markdown",
      "metadata": {
        "id": "sKZ2syDJriog"
      },
      "source": [
        "일반적으로 라쏘(L1 규제)보다는 릿지(L2 규제)를 선호한다.<br>\n",
        "규제가 좀 더 잘 된다고 볼 수 있음"
      ]
    }
  ]
}
