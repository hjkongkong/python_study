{
 "cells": [
  {
   "cell_type": "markdown",
   "metadata": {},
   "source": [
    "## 데이터 분석가\n",
    "빅 데이터 -> 단순하게 용량(big volumn)만 이야기 하는 것이 아닌 큰 가치(Big Data)도 같이 이야기 하는 것이다.\n",
    "\n",
    "- 데이터 사이언스\n",
    "    - **깔끔하게 정리된** 데이터를 토대로 비지니스에 맞게 데이터를 다루는 것(분석, 머신러닝, 딥러닝 등)\n",
    "    - 데이터를 기반으로한 비지니스 알고리즘 만들기\n",
    "\n",
    "- 데이터 엔지니어링\n",
    "    - 데이터를 수집, 저장, 전처리, 분석 등을 진행해서 데이터 마켓을 만드는 것을 목표로 한다.\n",
    "    - **전처리가 데이터 분석의 시작**\n",
    "    \n",
    "    \n",
    "## 데이터 분석가가 해야하는 일들\n",
    "0. 데이터 모으기(회사에서 서비스를 운용하다가 모아진 데이터)<br>\n",
    "1. 가설 세우기(비즈니스에 맞는 주제 세우기)\n",
    "    - 모아진 데이터들에 의해서 어떠한 비즈니스를 생각을 해야 하는가?\n",
    "    - ex) 인구수와 CCTV 대수에 대한 데이터를 수집-> 인구수 대비 적절하게 CCTV가 설치 되어 있는가?\n",
    "    - 인구수와 CCTV에 대비한 범죄발생율을 구할 수도 있다\n",
    "    - 범죄에 대한 검거율도 구할 수 있다.\n",
    "<br>\n",
    "2. 데이터 전처리\n",
    "    - 데이터를 가설에 맞게 깔끔하게 정리하는 단계\n",
    "    - 데이터 전처리를 진행하며 시각화를 많이 한다.<br>\n",
    "3. 데이터 분석\n",
    "    - 전처리된 데이터를 토대로 **가설을 검증**\n",
    "<br>\n",
    "4. 머신러닝 또는 딥러닝 단계"
   ]
  },
  {
   "cell_type": "code",
   "execution_count": null,
   "metadata": {},
   "outputs": [],
   "source": []
  }
 ],
 "metadata": {
  "kernelspec": {
   "display_name": "Python 3",
   "language": "python",
   "name": "python3"
  },
  "language_info": {
   "codemirror_mode": {
    "name": "ipython",
    "version": 3
   },
   "file_extension": ".py",
   "mimetype": "text/x-python",
   "name": "python",
   "nbconvert_exporter": "python",
   "pygments_lexer": "ipython3",
   "version": "3.7.6"
  }
 },
 "nbformat": 4,
 "nbformat_minor": 4
}
