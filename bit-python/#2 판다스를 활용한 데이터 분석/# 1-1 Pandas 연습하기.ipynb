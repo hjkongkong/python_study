{
 "cells": [
  {
   "cell_type": "markdown",
   "metadata": {},
   "source": [
    "# 파이썬을 이용한 데이터 분석은 pandas 사용빈도가 굉장히 높다!\n",
    "\n",
    "pandas에서 데이터를 다루기 위한 테이블을 **DataFrame**이라고 한다.<br>\n",
    "DataFrame이랑 데이터의 모음"
   ]
  },
  {
   "cell_type": "code",
   "execution_count": 2,
   "metadata": {},
   "outputs": [],
   "source": [
    "import pandas as pd # pandas 모듈 불러오기\n",
    "import numpy as np # numpy 모듈 불러오기. 통계, 수식 등등 수학적인 계산이 필요할 때 사용"
   ]
  },
  {
   "cell_type": "markdown",
   "metadata": {},
   "source": [
    "## Series 는 DataFrame의 최소단위입니다.\n",
    "파이썬의 list를 Series로 만들어 볼 수 있다."
   ]
  },
  {
   "cell_type": "code",
   "execution_count": 5,
   "metadata": {},
   "outputs": [
    {
     "data": {
      "text/plain": [
       "pandas.core.series.Series"
      ]
     },
     "execution_count": 5,
     "metadata": {},
     "output_type": "execute_result"
    }
   ],
   "source": [
    "s= pd.Series([1,2,3,np.nan, 6,7]) # NaN, nan -> not a number(숫자가 아닌 자료형 -> 숫자계의 null)\n",
    "type(s)"
   ]
  },
  {
   "cell_type": "code",
   "execution_count": 6,
   "metadata": {},
   "outputs": [
    {
     "data": {
      "text/plain": [
       "0    1.0\n",
       "1    2.0\n",
       "2    3.0\n",
       "3    NaN\n",
       "4    6.0\n",
       "5    7.0\n",
       "dtype: float64"
      ]
     },
     "execution_count": 6,
     "metadata": {},
     "output_type": "execute_result"
    }
   ],
   "source": [
    "s"
   ]
  },
  {
   "cell_type": "markdown",
   "metadata": {},
   "source": [
    "기본적으로 numpy 배열은 실수만을 다룬다. 정수 형태의 데이터를 다루려면 특별한 처리가 필요함."
   ]
  },
  {
   "cell_type": "markdown",
   "metadata": {},
   "source": [
    "# 날짜 데이터 다루기\n",
    "**date_range**을 사용해서 손쉽게 날짜 데이터를 생성할 수 있다. 보통은 시계열 분석을 위해 날짜 데이터를 많이 사용\n",
    "* 시계열 분석 : 시간의 흐름에 따라서 데이터가 어떻게 변화될지 예측 및 분석하는 것"
   ]
  },
  {
   "cell_type": "code",
   "execution_count": 9,
   "metadata": {},
   "outputs": [
    {
     "data": {
      "text/plain": [
       "DatetimeIndex(['2020-07-09', '2020-07-10', '2020-07-11', '2020-07-12',\n",
       "               '2020-07-13'],\n",
       "              dtype='datetime64[ns]', freq='D')"
      ]
     },
     "execution_count": 9,
     "metadata": {},
     "output_type": "execute_result"
    }
   ],
   "source": [
    "dates = pd.date_range(\"20200709\",periods= 5)\n",
    "dates"
   ]
  },
  {
   "cell_type": "markdown",
   "metadata": {},
   "source": [
    "# 데이터 프레임 만들어 보기\n",
    "* 첫 번째 인자에는 데이터 프레임을 채울 데이터를 입력한다.(2차원 배열로)\n",
    "* index 인자 : 데이터 프레임의 인덱스로 지정할 값을 지정(1치원 배열)\n",
    "* columns 인자 : 데이터 프레임에서 사용할 컬럼들을 지정(1치원 배열)"
   ]
  },
  {
   "cell_type": "code",
   "execution_count": 10,
   "metadata": {},
   "outputs": [
    {
     "data": {
      "text/html": [
       "<div>\n",
       "<style scoped>\n",
       "    .dataframe tbody tr th:only-of-type {\n",
       "        vertical-align: middle;\n",
       "    }\n",
       "\n",
       "    .dataframe tbody tr th {\n",
       "        vertical-align: top;\n",
       "    }\n",
       "\n",
       "    .dataframe thead th {\n",
       "        text-align: right;\n",
       "    }\n",
       "</style>\n",
       "<table border=\"1\" class=\"dataframe\">\n",
       "  <thead>\n",
       "    <tr style=\"text-align: right;\">\n",
       "      <th></th>\n",
       "      <th>A</th>\n",
       "      <th>B</th>\n",
       "      <th>C</th>\n",
       "      <th>D</th>\n",
       "    </tr>\n",
       "  </thead>\n",
       "  <tbody>\n",
       "    <tr>\n",
       "      <th>2020-07-09</th>\n",
       "      <td>-0.259016</td>\n",
       "      <td>-0.053434</td>\n",
       "      <td>0.094656</td>\n",
       "      <td>0.272462</td>\n",
       "    </tr>\n",
       "    <tr>\n",
       "      <th>2020-07-10</th>\n",
       "      <td>1.844658</td>\n",
       "      <td>0.062865</td>\n",
       "      <td>-1.038972</td>\n",
       "      <td>0.546730</td>\n",
       "    </tr>\n",
       "    <tr>\n",
       "      <th>2020-07-11</th>\n",
       "      <td>0.164361</td>\n",
       "      <td>-1.868173</td>\n",
       "      <td>-0.105984</td>\n",
       "      <td>0.216624</td>\n",
       "    </tr>\n",
       "    <tr>\n",
       "      <th>2020-07-12</th>\n",
       "      <td>-1.518766</td>\n",
       "      <td>-0.088612</td>\n",
       "      <td>-1.891614</td>\n",
       "      <td>0.156646</td>\n",
       "    </tr>\n",
       "    <tr>\n",
       "      <th>2020-07-13</th>\n",
       "      <td>-0.802737</td>\n",
       "      <td>-1.202828</td>\n",
       "      <td>-0.674076</td>\n",
       "      <td>-1.512939</td>\n",
       "    </tr>\n",
       "  </tbody>\n",
       "</table>\n",
       "</div>"
      ],
      "text/plain": [
       "                   A         B         C         D\n",
       "2020-07-09 -0.259016 -0.053434  0.094656  0.272462\n",
       "2020-07-10  1.844658  0.062865 -1.038972  0.546730\n",
       "2020-07-11  0.164361 -1.868173 -0.105984  0.216624\n",
       "2020-07-12 -1.518766 -0.088612 -1.891614  0.156646\n",
       "2020-07-13 -0.802737 -1.202828 -0.674076 -1.512939"
      ]
     },
     "execution_count": 10,
     "metadata": {},
     "output_type": "execute_result"
    }
   ],
   "source": [
    "df = pd.DataFrame(np.random.randn(5,4), # 첫 번째 인자에는 데이터프레임에 채울 데이터(2차원 배열) -> 랜덤한 숫자를 5행 4열로 채운다\n",
    "                  index = dates, # 인덱스 지정하기. 행의 개수와 인덱스의 개수는 언제나 일치해야 한다.\n",
    "                  columns=['A','B','C','D'] # 데이터의 열의 개수와 일치해야 한다.\n",
    "                 )\n",
    "df.head()"
   ]
  },
  {
   "cell_type": "markdown",
   "metadata": {},
   "source": [
    "* head 메소드는 데이터프레임의 0번째 행부터 몇개를 볼지를 지정한다.(일부만 확인)\n",
    "* tail 메소드는 데이터 프레임의 마지막 행부터 몇개를 볼지를 지정한다.(head와 반대)"
   ]
  },
  {
   "cell_type": "code",
   "execution_count": 11,
   "metadata": {},
   "outputs": [
    {
     "data": {
      "text/html": [
       "<div>\n",
       "<style scoped>\n",
       "    .dataframe tbody tr th:only-of-type {\n",
       "        vertical-align: middle;\n",
       "    }\n",
       "\n",
       "    .dataframe tbody tr th {\n",
       "        vertical-align: top;\n",
       "    }\n",
       "\n",
       "    .dataframe thead th {\n",
       "        text-align: right;\n",
       "    }\n",
       "</style>\n",
       "<table border=\"1\" class=\"dataframe\">\n",
       "  <thead>\n",
       "    <tr style=\"text-align: right;\">\n",
       "      <th></th>\n",
       "      <th>A</th>\n",
       "      <th>B</th>\n",
       "      <th>C</th>\n",
       "      <th>D</th>\n",
       "    </tr>\n",
       "  </thead>\n",
       "  <tbody>\n",
       "    <tr>\n",
       "      <th>2020-07-09</th>\n",
       "      <td>-0.259016</td>\n",
       "      <td>-0.053434</td>\n",
       "      <td>0.094656</td>\n",
       "      <td>0.272462</td>\n",
       "    </tr>\n",
       "    <tr>\n",
       "      <th>2020-07-10</th>\n",
       "      <td>1.844658</td>\n",
       "      <td>0.062865</td>\n",
       "      <td>-1.038972</td>\n",
       "      <td>0.546730</td>\n",
       "    </tr>\n",
       "    <tr>\n",
       "      <th>2020-07-11</th>\n",
       "      <td>0.164361</td>\n",
       "      <td>-1.868173</td>\n",
       "      <td>-0.105984</td>\n",
       "      <td>0.216624</td>\n",
       "    </tr>\n",
       "  </tbody>\n",
       "</table>\n",
       "</div>"
      ],
      "text/plain": [
       "                   A         B         C         D\n",
       "2020-07-09 -0.259016 -0.053434  0.094656  0.272462\n",
       "2020-07-10  1.844658  0.062865 -1.038972  0.546730\n",
       "2020-07-11  0.164361 -1.868173 -0.105984  0.216624"
      ]
     },
     "execution_count": 11,
     "metadata": {},
     "output_type": "execute_result"
    }
   ],
   "source": [
    "df.head(3)"
   ]
  },
  {
   "cell_type": "markdown",
   "metadata": {},
   "source": [
    "index란 -> 행을 대표하는 데이터. 즉, 중복되면 안되는 데이터 rdms의 primary key의 역할을 한다"
   ]
  },
  {
   "cell_type": "markdown",
   "metadata": {},
   "source": [
    "# 데이터 프레임의 각종 정보 확인하기\n",
    "* index : 데이터 프레임의 인덱스 확인하기\n",
    "* columns : 데이터 프레임의 컬럼 이름 확인하기\n",
    "* values : 데이터 프레임의 모든 값을 확인\n",
    "* info() : 데이터 프레임에 대한 간단한 개요 확인하기"
   ]
  },
  {
   "cell_type": "code",
   "execution_count": 12,
   "metadata": {},
   "outputs": [
    {
     "data": {
      "text/plain": [
       "DatetimeIndex(['2020-07-09', '2020-07-10', '2020-07-11', '2020-07-12',\n",
       "               '2020-07-13'],\n",
       "              dtype='datetime64[ns]', freq='D')"
      ]
     },
     "execution_count": 12,
     "metadata": {},
     "output_type": "execute_result"
    }
   ],
   "source": [
    "df.index"
   ]
  },
  {
   "cell_type": "code",
   "execution_count": 14,
   "metadata": {},
   "outputs": [
    {
     "data": {
      "text/plain": [
       "Index(['A', 'B', 'C', 'D'], dtype='object')"
      ]
     },
     "execution_count": 14,
     "metadata": {},
     "output_type": "execute_result"
    }
   ],
   "source": [
    "df.columns"
   ]
  },
  {
   "cell_type": "code",
   "execution_count": 15,
   "metadata": {},
   "outputs": [
    {
     "data": {
      "text/plain": [
       "array([[-0.2590162 , -0.05343402,  0.09465598,  0.27246228],\n",
       "       [ 1.84465773,  0.06286469, -1.0389722 ,  0.54672957],\n",
       "       [ 0.16436109, -1.86817263, -0.10598376,  0.21662363],\n",
       "       [-1.51876602, -0.08861189, -1.89161436,  0.15664618],\n",
       "       [-0.80273657, -1.20282777, -0.67407573, -1.5129385 ]])"
      ]
     },
     "execution_count": 15,
     "metadata": {},
     "output_type": "execute_result"
    }
   ],
   "source": [
    "df.values"
   ]
  },
  {
   "cell_type": "code",
   "execution_count": 16,
   "metadata": {},
   "outputs": [
    {
     "data": {
      "text/plain": [
       "(5, 4)"
      ]
     },
     "execution_count": 16,
     "metadata": {},
     "output_type": "execute_result"
    }
   ],
   "source": [
    "df.values.shape"
   ]
  },
  {
   "cell_type": "code",
   "execution_count": 17,
   "metadata": {},
   "outputs": [
    {
     "name": "stdout",
     "output_type": "stream",
     "text": [
      "<class 'pandas.core.frame.DataFrame'>\n",
      "DatetimeIndex: 5 entries, 2020-07-09 to 2020-07-13\n",
      "Freq: D\n",
      "Data columns (total 4 columns):\n",
      " #   Column  Non-Null Count  Dtype  \n",
      "---  ------  --------------  -----  \n",
      " 0   A       5 non-null      float64\n",
      " 1   B       5 non-null      float64\n",
      " 2   C       5 non-null      float64\n",
      " 3   D       5 non-null      float64\n",
      "dtypes: float64(4)\n",
      "memory usage: 200.0 bytes\n"
     ]
    }
   ],
   "source": [
    "df.info()"
   ]
  },
  {
   "cell_type": "markdown",
   "metadata": {},
   "source": [
    "info()를 사용하는 시점\n",
    "* RDBMS나 excel, cvs 등에서 가지고 온 데이터는 내가 원하는 타임이 아닐 수 도 있다.\n",
    "* 나는 숫자 데이터를 가지고 온 것 같은데 가지고 와서 보니 문자열인 경우도 종종 있다.\n",
    "\n",
    "ex) 나이 \"100\" -> 문자열 데이터"
   ]
  },
  {
   "cell_type": "code",
   "execution_count": 18,
   "metadata": {},
   "outputs": [
    {
     "data": {
      "text/html": [
       "<div>\n",
       "<style scoped>\n",
       "    .dataframe tbody tr th:only-of-type {\n",
       "        vertical-align: middle;\n",
       "    }\n",
       "\n",
       "    .dataframe tbody tr th {\n",
       "        vertical-align: top;\n",
       "    }\n",
       "\n",
       "    .dataframe thead th {\n",
       "        text-align: right;\n",
       "    }\n",
       "</style>\n",
       "<table border=\"1\" class=\"dataframe\">\n",
       "  <thead>\n",
       "    <tr style=\"text-align: right;\">\n",
       "      <th></th>\n",
       "      <th>A</th>\n",
       "      <th>B</th>\n",
       "      <th>C</th>\n",
       "      <th>D</th>\n",
       "    </tr>\n",
       "  </thead>\n",
       "  <tbody>\n",
       "    <tr>\n",
       "      <th>count</th>\n",
       "      <td>5.000000</td>\n",
       "      <td>5.000000</td>\n",
       "      <td>5.000000</td>\n",
       "      <td>5.000000</td>\n",
       "    </tr>\n",
       "    <tr>\n",
       "      <th>mean</th>\n",
       "      <td>-0.114300</td>\n",
       "      <td>-0.630036</td>\n",
       "      <td>-0.723198</td>\n",
       "      <td>-0.064095</td>\n",
       "    </tr>\n",
       "    <tr>\n",
       "      <th>std</th>\n",
       "      <td>1.263188</td>\n",
       "      <td>0.861219</td>\n",
       "      <td>0.793278</td>\n",
       "      <td>0.823568</td>\n",
       "    </tr>\n",
       "    <tr>\n",
       "      <th>min</th>\n",
       "      <td>-1.518766</td>\n",
       "      <td>-1.868173</td>\n",
       "      <td>-1.891614</td>\n",
       "      <td>-1.512939</td>\n",
       "    </tr>\n",
       "    <tr>\n",
       "      <th>25%</th>\n",
       "      <td>-0.802737</td>\n",
       "      <td>-1.202828</td>\n",
       "      <td>-1.038972</td>\n",
       "      <td>0.156646</td>\n",
       "    </tr>\n",
       "    <tr>\n",
       "      <th>50%</th>\n",
       "      <td>-0.259016</td>\n",
       "      <td>-0.088612</td>\n",
       "      <td>-0.674076</td>\n",
       "      <td>0.216624</td>\n",
       "    </tr>\n",
       "    <tr>\n",
       "      <th>75%</th>\n",
       "      <td>0.164361</td>\n",
       "      <td>-0.053434</td>\n",
       "      <td>-0.105984</td>\n",
       "      <td>0.272462</td>\n",
       "    </tr>\n",
       "    <tr>\n",
       "      <th>max</th>\n",
       "      <td>1.844658</td>\n",
       "      <td>0.062865</td>\n",
       "      <td>0.094656</td>\n",
       "      <td>0.546730</td>\n",
       "    </tr>\n",
       "  </tbody>\n",
       "</table>\n",
       "</div>"
      ],
      "text/plain": [
       "              A         B         C         D\n",
       "count  5.000000  5.000000  5.000000  5.000000\n",
       "mean  -0.114300 -0.630036 -0.723198 -0.064095\n",
       "std    1.263188  0.861219  0.793278  0.823568\n",
       "min   -1.518766 -1.868173 -1.891614 -1.512939\n",
       "25%   -0.802737 -1.202828 -1.038972  0.156646\n",
       "50%   -0.259016 -0.088612 -0.674076  0.216624\n",
       "75%    0.164361 -0.053434 -0.105984  0.272462\n",
       "max    1.844658  0.062865  0.094656  0.546730"
      ]
     },
     "execution_count": 18,
     "metadata": {},
     "output_type": "execute_result"
    }
   ],
   "source": [
    "df.describe() # 통계적 개요 확인하기 -> 개수(count), 평균(mean), 최소값(min), 최대값(max), 표준편차(std), 사분위"
   ]
  },
  {
   "cell_type": "markdown",
   "metadata": {},
   "source": [
    "## 데이터 정렬\n",
    "sort_vaules 함수를 사용한다.\n",
    "* by : 정렬의 기준이 되는 칼럼의 이름\n",
    "* ascending : 내림차순(False), 오름차순(True)"
   ]
  },
  {
   "cell_type": "code",
   "execution_count": 19,
   "metadata": {},
   "outputs": [
    {
     "data": {
      "text/html": [
       "<div>\n",
       "<style scoped>\n",
       "    .dataframe tbody tr th:only-of-type {\n",
       "        vertical-align: middle;\n",
       "    }\n",
       "\n",
       "    .dataframe tbody tr th {\n",
       "        vertical-align: top;\n",
       "    }\n",
       "\n",
       "    .dataframe thead th {\n",
       "        text-align: right;\n",
       "    }\n",
       "</style>\n",
       "<table border=\"1\" class=\"dataframe\">\n",
       "  <thead>\n",
       "    <tr style=\"text-align: right;\">\n",
       "      <th></th>\n",
       "      <th>A</th>\n",
       "      <th>B</th>\n",
       "      <th>C</th>\n",
       "      <th>D</th>\n",
       "    </tr>\n",
       "  </thead>\n",
       "  <tbody>\n",
       "    <tr>\n",
       "      <th>2020-07-11</th>\n",
       "      <td>0.164361</td>\n",
       "      <td>-1.868173</td>\n",
       "      <td>-0.105984</td>\n",
       "      <td>0.216624</td>\n",
       "    </tr>\n",
       "    <tr>\n",
       "      <th>2020-07-13</th>\n",
       "      <td>-0.802737</td>\n",
       "      <td>-1.202828</td>\n",
       "      <td>-0.674076</td>\n",
       "      <td>-1.512939</td>\n",
       "    </tr>\n",
       "    <tr>\n",
       "      <th>2020-07-12</th>\n",
       "      <td>-1.518766</td>\n",
       "      <td>-0.088612</td>\n",
       "      <td>-1.891614</td>\n",
       "      <td>0.156646</td>\n",
       "    </tr>\n",
       "    <tr>\n",
       "      <th>2020-07-09</th>\n",
       "      <td>-0.259016</td>\n",
       "      <td>-0.053434</td>\n",
       "      <td>0.094656</td>\n",
       "      <td>0.272462</td>\n",
       "    </tr>\n",
       "    <tr>\n",
       "      <th>2020-07-10</th>\n",
       "      <td>1.844658</td>\n",
       "      <td>0.062865</td>\n",
       "      <td>-1.038972</td>\n",
       "      <td>0.546730</td>\n",
       "    </tr>\n",
       "  </tbody>\n",
       "</table>\n",
       "</div>"
      ],
      "text/plain": [
       "                   A         B         C         D\n",
       "2020-07-11  0.164361 -1.868173 -0.105984  0.216624\n",
       "2020-07-13 -0.802737 -1.202828 -0.674076 -1.512939\n",
       "2020-07-12 -1.518766 -0.088612 -1.891614  0.156646\n",
       "2020-07-09 -0.259016 -0.053434  0.094656  0.272462\n",
       "2020-07-10  1.844658  0.062865 -1.038972  0.546730"
      ]
     },
     "execution_count": 19,
     "metadata": {},
     "output_type": "execute_result"
    }
   ],
   "source": [
    "df.sort_values(by='B',ascending=True)"
   ]
  },
  {
   "cell_type": "markdown",
   "metadata": {},
   "source": [
    "## 데이터 선택\n",
    "일반 딕셔너리 사용하듯이 컬럼의 이름을 집어 넣으면 해당 칼럼의 시리즈(또는 데이터 프레임 형식으려)가 한꺼번에 선택이 된다."
   ]
  },
  {
   "cell_type": "code",
   "execution_count": 20,
   "metadata": {},
   "outputs": [
    {
     "data": {
      "text/plain": [
       "2020-07-09   -0.259016\n",
       "2020-07-10    1.844658\n",
       "2020-07-11    0.164361\n",
       "2020-07-12   -1.518766\n",
       "2020-07-13   -0.802737\n",
       "Freq: D, Name: A, dtype: float64"
      ]
     },
     "execution_count": 20,
     "metadata": {},
     "output_type": "execute_result"
    }
   ],
   "source": [
    "# 칼럼 하나만 선택해서 보는 경우\n",
    "df['A']"
   ]
  },
  {
   "cell_type": "code",
   "execution_count": 21,
   "metadata": {},
   "outputs": [
    {
     "data": {
      "text/html": [
       "<div>\n",
       "<style scoped>\n",
       "    .dataframe tbody tr th:only-of-type {\n",
       "        vertical-align: middle;\n",
       "    }\n",
       "\n",
       "    .dataframe tbody tr th {\n",
       "        vertical-align: top;\n",
       "    }\n",
       "\n",
       "    .dataframe thead th {\n",
       "        text-align: right;\n",
       "    }\n",
       "</style>\n",
       "<table border=\"1\" class=\"dataframe\">\n",
       "  <thead>\n",
       "    <tr style=\"text-align: right;\">\n",
       "      <th></th>\n",
       "      <th>A</th>\n",
       "      <th>C</th>\n",
       "    </tr>\n",
       "  </thead>\n",
       "  <tbody>\n",
       "    <tr>\n",
       "      <th>2020-07-09</th>\n",
       "      <td>-0.259016</td>\n",
       "      <td>0.094656</td>\n",
       "    </tr>\n",
       "    <tr>\n",
       "      <th>2020-07-10</th>\n",
       "      <td>1.844658</td>\n",
       "      <td>-1.038972</td>\n",
       "    </tr>\n",
       "    <tr>\n",
       "      <th>2020-07-11</th>\n",
       "      <td>0.164361</td>\n",
       "      <td>-0.105984</td>\n",
       "    </tr>\n",
       "    <tr>\n",
       "      <th>2020-07-12</th>\n",
       "      <td>-1.518766</td>\n",
       "      <td>-1.891614</td>\n",
       "    </tr>\n",
       "    <tr>\n",
       "      <th>2020-07-13</th>\n",
       "      <td>-0.802737</td>\n",
       "      <td>-0.674076</td>\n",
       "    </tr>\n",
       "  </tbody>\n",
       "</table>\n",
       "</div>"
      ],
      "text/plain": [
       "                   A         C\n",
       "2020-07-09 -0.259016  0.094656\n",
       "2020-07-10  1.844658 -1.038972\n",
       "2020-07-11  0.164361 -0.105984\n",
       "2020-07-12 -1.518766 -1.891614\n",
       "2020-07-13 -0.802737 -0.674076"
      ]
     },
     "execution_count": 21,
     "metadata": {},
     "output_type": "execute_result"
    }
   ],
   "source": [
    "# 여러개의 칼럼을 동시 선택\n",
    "cols = ['A','C'] # 리스트 형식으로 만든다.\n",
    "df[cols]\n",
    "# df[['A','C'] ]"
   ]
  },
  {
   "cell_type": "markdown",
   "metadata": {},
   "source": [
    "## 슬라이스 기법을 활용해서 범위 데이터 추출\n",
    "slice([start:end:step])"
   ]
  },
  {
   "cell_type": "code",
   "execution_count": 22,
   "metadata": {},
   "outputs": [
    {
     "data": {
      "text/html": [
       "<div>\n",
       "<style scoped>\n",
       "    .dataframe tbody tr th:only-of-type {\n",
       "        vertical-align: middle;\n",
       "    }\n",
       "\n",
       "    .dataframe tbody tr th {\n",
       "        vertical-align: top;\n",
       "    }\n",
       "\n",
       "    .dataframe thead th {\n",
       "        text-align: right;\n",
       "    }\n",
       "</style>\n",
       "<table border=\"1\" class=\"dataframe\">\n",
       "  <thead>\n",
       "    <tr style=\"text-align: right;\">\n",
       "      <th></th>\n",
       "      <th>A</th>\n",
       "      <th>B</th>\n",
       "      <th>C</th>\n",
       "      <th>D</th>\n",
       "    </tr>\n",
       "  </thead>\n",
       "  <tbody>\n",
       "    <tr>\n",
       "      <th>2020-07-09</th>\n",
       "      <td>-0.259016</td>\n",
       "      <td>-0.053434</td>\n",
       "      <td>0.094656</td>\n",
       "      <td>0.272462</td>\n",
       "    </tr>\n",
       "    <tr>\n",
       "      <th>2020-07-10</th>\n",
       "      <td>1.844658</td>\n",
       "      <td>0.062865</td>\n",
       "      <td>-1.038972</td>\n",
       "      <td>0.546730</td>\n",
       "    </tr>\n",
       "    <tr>\n",
       "      <th>2020-07-11</th>\n",
       "      <td>0.164361</td>\n",
       "      <td>-1.868173</td>\n",
       "      <td>-0.105984</td>\n",
       "      <td>0.216624</td>\n",
       "    </tr>\n",
       "  </tbody>\n",
       "</table>\n",
       "</div>"
      ],
      "text/plain": [
       "                   A         B         C         D\n",
       "2020-07-09 -0.259016 -0.053434  0.094656  0.272462\n",
       "2020-07-10  1.844658  0.062865 -1.038972  0.546730\n",
       "2020-07-11  0.164361 -1.868173 -0.105984  0.216624"
      ]
     },
     "execution_count": 22,
     "metadata": {},
     "output_type": "execute_result"
    }
   ],
   "source": [
    "# offset을 사용하여 행 범위를 지정하는 것\n",
    "df[0:3] # 0-2 까지 출력"
   ]
  },
  {
   "cell_type": "code",
   "execution_count": 23,
   "metadata": {},
   "outputs": [
    {
     "data": {
      "text/html": [
       "<div>\n",
       "<style scoped>\n",
       "    .dataframe tbody tr th:only-of-type {\n",
       "        vertical-align: middle;\n",
       "    }\n",
       "\n",
       "    .dataframe tbody tr th {\n",
       "        vertical-align: top;\n",
       "    }\n",
       "\n",
       "    .dataframe thead th {\n",
       "        text-align: right;\n",
       "    }\n",
       "</style>\n",
       "<table border=\"1\" class=\"dataframe\">\n",
       "  <thead>\n",
       "    <tr style=\"text-align: right;\">\n",
       "      <th></th>\n",
       "      <th>A</th>\n",
       "      <th>B</th>\n",
       "      <th>C</th>\n",
       "      <th>D</th>\n",
       "    </tr>\n",
       "  </thead>\n",
       "  <tbody>\n",
       "    <tr>\n",
       "      <th>2020-07-11</th>\n",
       "      <td>0.164361</td>\n",
       "      <td>-1.868173</td>\n",
       "      <td>-0.105984</td>\n",
       "      <td>0.216624</td>\n",
       "    </tr>\n",
       "    <tr>\n",
       "      <th>2020-07-12</th>\n",
       "      <td>-1.518766</td>\n",
       "      <td>-0.088612</td>\n",
       "      <td>-1.891614</td>\n",
       "      <td>0.156646</td>\n",
       "    </tr>\n",
       "    <tr>\n",
       "      <th>2020-07-13</th>\n",
       "      <td>-0.802737</td>\n",
       "      <td>-1.202828</td>\n",
       "      <td>-0.674076</td>\n",
       "      <td>-1.512939</td>\n",
       "    </tr>\n",
       "  </tbody>\n",
       "</table>\n",
       "</div>"
      ],
      "text/plain": [
       "                   A         B         C         D\n",
       "2020-07-11  0.164361 -1.868173 -0.105984  0.216624\n",
       "2020-07-12 -1.518766 -0.088612 -1.891614  0.156646\n",
       "2020-07-13 -0.802737 -1.202828 -0.674076 -1.512939"
      ]
     },
     "execution_count": 23,
     "metadata": {},
     "output_type": "execute_result"
    }
   ],
   "source": [
    "# index를 사용해서 행 범위를 지정하기\n",
    "df['20200711':'20200713']"
   ]
  },
  {
   "cell_type": "markdown",
   "metadata": {},
   "source": [
    "# 특정 위치에 있는 데이터를 확인하기(★★★★★중요)\n",
    "* loc를 활용\n",
    "* 행과 열을 동시에 선택할 수 있다.\n",
    "* loc[행 선택(조건), 열 선택]"
   ]
  },
  {
   "cell_type": "code",
   "execution_count": 27,
   "metadata": {},
   "outputs": [
    {
     "data": {
      "text/plain": [
       "A   -0.259016\n",
       "B   -0.053434\n",
       "C    0.094656\n",
       "D    0.272462\n",
       "Name: 2020-07-09 00:00:00, dtype: float64"
      ]
     },
     "execution_count": 27,
     "metadata": {},
     "output_type": "execute_result"
    }
   ],
   "source": [
    "df.loc[\"20200709\"] # 열은 생략할 수 있다. 생략 시 모든 열 출력"
   ]
  },
  {
   "cell_type": "code",
   "execution_count": 28,
   "metadata": {},
   "outputs": [
    {
     "data": {
      "text/html": [
       "<div>\n",
       "<style scoped>\n",
       "    .dataframe tbody tr th:only-of-type {\n",
       "        vertical-align: middle;\n",
       "    }\n",
       "\n",
       "    .dataframe tbody tr th {\n",
       "        vertical-align: top;\n",
       "    }\n",
       "\n",
       "    .dataframe thead th {\n",
       "        text-align: right;\n",
       "    }\n",
       "</style>\n",
       "<table border=\"1\" class=\"dataframe\">\n",
       "  <thead>\n",
       "    <tr style=\"text-align: right;\">\n",
       "      <th></th>\n",
       "      <th>A</th>\n",
       "      <th>C</th>\n",
       "    </tr>\n",
       "  </thead>\n",
       "  <tbody>\n",
       "    <tr>\n",
       "      <th>2020-07-09</th>\n",
       "      <td>-0.259016</td>\n",
       "      <td>0.094656</td>\n",
       "    </tr>\n",
       "    <tr>\n",
       "      <th>2020-07-10</th>\n",
       "      <td>1.844658</td>\n",
       "      <td>-1.038972</td>\n",
       "    </tr>\n",
       "    <tr>\n",
       "      <th>2020-07-11</th>\n",
       "      <td>0.164361</td>\n",
       "      <td>-0.105984</td>\n",
       "    </tr>\n",
       "    <tr>\n",
       "      <th>2020-07-12</th>\n",
       "      <td>-1.518766</td>\n",
       "      <td>-1.891614</td>\n",
       "    </tr>\n",
       "    <tr>\n",
       "      <th>2020-07-13</th>\n",
       "      <td>-0.802737</td>\n",
       "      <td>-0.674076</td>\n",
       "    </tr>\n",
       "  </tbody>\n",
       "</table>\n",
       "</div>"
      ],
      "text/plain": [
       "                   A         C\n",
       "2020-07-09 -0.259016  0.094656\n",
       "2020-07-10  1.844658 -1.038972\n",
       "2020-07-11  0.164361 -0.105984\n",
       "2020-07-12 -1.518766 -1.891614\n",
       "2020-07-13 -0.802737 -0.674076"
      ]
     },
     "execution_count": 28,
     "metadata": {},
     "output_type": "execute_result"
    }
   ],
   "source": [
    "df.loc[: # :을 기준으로 지정된 정보가 없다 -> 전체 행\n",
    "      ,['A','C']]"
   ]
  },
  {
   "cell_type": "code",
   "execution_count": 29,
   "metadata": {},
   "outputs": [
    {
     "data": {
      "text/html": [
       "<div>\n",
       "<style scoped>\n",
       "    .dataframe tbody tr th:only-of-type {\n",
       "        vertical-align: middle;\n",
       "    }\n",
       "\n",
       "    .dataframe tbody tr th {\n",
       "        vertical-align: top;\n",
       "    }\n",
       "\n",
       "    .dataframe thead th {\n",
       "        text-align: right;\n",
       "    }\n",
       "</style>\n",
       "<table border=\"1\" class=\"dataframe\">\n",
       "  <thead>\n",
       "    <tr style=\"text-align: right;\">\n",
       "      <th></th>\n",
       "      <th>A</th>\n",
       "      <th>C</th>\n",
       "    </tr>\n",
       "  </thead>\n",
       "  <tbody>\n",
       "    <tr>\n",
       "      <th>2020-07-09</th>\n",
       "      <td>-0.259016</td>\n",
       "      <td>0.094656</td>\n",
       "    </tr>\n",
       "    <tr>\n",
       "      <th>2020-07-10</th>\n",
       "      <td>1.844658</td>\n",
       "      <td>-1.038972</td>\n",
       "    </tr>\n",
       "    <tr>\n",
       "      <th>2020-07-11</th>\n",
       "      <td>0.164361</td>\n",
       "      <td>-0.105984</td>\n",
       "    </tr>\n",
       "  </tbody>\n",
       "</table>\n",
       "</div>"
      ],
      "text/plain": [
       "                   A         C\n",
       "2020-07-09 -0.259016  0.094656\n",
       "2020-07-10  1.844658 -1.038972\n",
       "2020-07-11  0.164361 -0.105984"
      ]
     },
     "execution_count": 29,
     "metadata": {},
     "output_type": "execute_result"
    }
   ],
   "source": [
    "# 20200709 ~ 20200711 까지의 A,D 데이터를 보고 싶다\n",
    "# 날짜는 행을 의미하고, A, D열을 의미한다.\n",
    "df.loc['20200709':'20200711,' # 행 선택 부분\n",
    "      ,['A','C'] # 열 선택 부분\n",
    "      ]"
   ]
  },
  {
   "cell_type": "code",
   "execution_count": 30,
   "metadata": {},
   "outputs": [
    {
     "data": {
      "text/plain": [
       "A   -0.802737\n",
       "D   -1.512939\n",
       "Name: 2020-07-13 00:00:00, dtype: float64"
      ]
     },
     "execution_count": 30,
     "metadata": {},
     "output_type": "execute_result"
    }
   ],
   "source": [
    "df.loc['20200713',['A','D']]"
   ]
  },
  {
   "cell_type": "markdown",
   "metadata": {},
   "source": [
    "# 특정 조건을 만족시키는 데이터를 얻어내는 방법★★★★★\n",
    "데이터 전처리를 할 때 누락값이나 NaN값 등 잘못된 데이터를 처리하기 위해 반드시 필요한 문법<br>\n",
    "\n",
    "### 1. 특정 컬럼 선택을 통해 해당 컬럼을 기준으로 데이터 산출하기"
   ]
  },
  {
   "cell_type": "code",
   "execution_count": 31,
   "metadata": {},
   "outputs": [
    {
     "data": {
      "text/html": [
       "<div>\n",
       "<style scoped>\n",
       "    .dataframe tbody tr th:only-of-type {\n",
       "        vertical-align: middle;\n",
       "    }\n",
       "\n",
       "    .dataframe tbody tr th {\n",
       "        vertical-align: top;\n",
       "    }\n",
       "\n",
       "    .dataframe thead th {\n",
       "        text-align: right;\n",
       "    }\n",
       "</style>\n",
       "<table border=\"1\" class=\"dataframe\">\n",
       "  <thead>\n",
       "    <tr style=\"text-align: right;\">\n",
       "      <th></th>\n",
       "      <th>A</th>\n",
       "      <th>B</th>\n",
       "      <th>C</th>\n",
       "      <th>D</th>\n",
       "    </tr>\n",
       "  </thead>\n",
       "  <tbody>\n",
       "    <tr>\n",
       "      <th>2020-07-10</th>\n",
       "      <td>1.844658</td>\n",
       "      <td>0.062865</td>\n",
       "      <td>-1.038972</td>\n",
       "      <td>0.546730</td>\n",
       "    </tr>\n",
       "    <tr>\n",
       "      <th>2020-07-11</th>\n",
       "      <td>0.164361</td>\n",
       "      <td>-1.868173</td>\n",
       "      <td>-0.105984</td>\n",
       "      <td>0.216624</td>\n",
       "    </tr>\n",
       "  </tbody>\n",
       "</table>\n",
       "</div>"
      ],
      "text/plain": [
       "                   A         B         C         D\n",
       "2020-07-10  1.844658  0.062865 -1.038972  0.546730\n",
       "2020-07-11  0.164361 -1.868173 -0.105984  0.216624"
      ]
     },
     "execution_count": 31,
     "metadata": {},
     "output_type": "execute_result"
    }
   ],
   "source": [
    "df[df['A']>0] # df에서 A 시리즈의 값이 0보다 큰 행들만 선택"
   ]
  },
  {
   "cell_type": "markdown",
   "metadata": {},
   "source": [
    "## 데이터 프레임 복사하기\n",
    "객체의 할당과 복사. copy.slice"
   ]
  },
  {
   "cell_type": "code",
   "execution_count": 32,
   "metadata": {},
   "outputs": [],
   "source": [
    "df2 = df.copy() # 데이터 프레임 자체를 전체 복사\n",
    "df2['E'] = ['one','one','two','three','four'] # 딕셔너리에서 없는 키값에 값을 넣으면 추가 되듯이 데이터 프레임도 마찬가지\n",
    "\n",
    "# 주의사힝 : 새롭게 들어가는 데이터 리스트는 "
   ]
  },
  {
   "cell_type": "code",
   "execution_count": 33,
   "metadata": {},
   "outputs": [
    {
     "data": {
      "text/html": [
       "<div>\n",
       "<style scoped>\n",
       "    .dataframe tbody tr th:only-of-type {\n",
       "        vertical-align: middle;\n",
       "    }\n",
       "\n",
       "    .dataframe tbody tr th {\n",
       "        vertical-align: top;\n",
       "    }\n",
       "\n",
       "    .dataframe thead th {\n",
       "        text-align: right;\n",
       "    }\n",
       "</style>\n",
       "<table border=\"1\" class=\"dataframe\">\n",
       "  <thead>\n",
       "    <tr style=\"text-align: right;\">\n",
       "      <th></th>\n",
       "      <th>A</th>\n",
       "      <th>B</th>\n",
       "      <th>C</th>\n",
       "      <th>D</th>\n",
       "    </tr>\n",
       "  </thead>\n",
       "  <tbody>\n",
       "    <tr>\n",
       "      <th>2020-07-09</th>\n",
       "      <td>-0.259016</td>\n",
       "      <td>-0.053434</td>\n",
       "      <td>0.094656</td>\n",
       "      <td>0.272462</td>\n",
       "    </tr>\n",
       "    <tr>\n",
       "      <th>2020-07-10</th>\n",
       "      <td>1.844658</td>\n",
       "      <td>0.062865</td>\n",
       "      <td>-1.038972</td>\n",
       "      <td>0.546730</td>\n",
       "    </tr>\n",
       "    <tr>\n",
       "      <th>2020-07-11</th>\n",
       "      <td>0.164361</td>\n",
       "      <td>-1.868173</td>\n",
       "      <td>-0.105984</td>\n",
       "      <td>0.216624</td>\n",
       "    </tr>\n",
       "    <tr>\n",
       "      <th>2020-07-12</th>\n",
       "      <td>-1.518766</td>\n",
       "      <td>-0.088612</td>\n",
       "      <td>-1.891614</td>\n",
       "      <td>0.156646</td>\n",
       "    </tr>\n",
       "    <tr>\n",
       "      <th>2020-07-13</th>\n",
       "      <td>-0.802737</td>\n",
       "      <td>-1.202828</td>\n",
       "      <td>-0.674076</td>\n",
       "      <td>-1.512939</td>\n",
       "    </tr>\n",
       "  </tbody>\n",
       "</table>\n",
       "</div>"
      ],
      "text/plain": [
       "                   A         B         C         D\n",
       "2020-07-09 -0.259016 -0.053434  0.094656  0.272462\n",
       "2020-07-10  1.844658  0.062865 -1.038972  0.546730\n",
       "2020-07-11  0.164361 -1.868173 -0.105984  0.216624\n",
       "2020-07-12 -1.518766 -0.088612 -1.891614  0.156646\n",
       "2020-07-13 -0.802737 -1.202828 -0.674076 -1.512939"
      ]
     },
     "execution_count": 33,
     "metadata": {},
     "output_type": "execute_result"
    }
   ],
   "source": [
    "df"
   ]
  },
  {
   "cell_type": "code",
   "execution_count": 34,
   "metadata": {},
   "outputs": [
    {
     "data": {
      "text/html": [
       "<div>\n",
       "<style scoped>\n",
       "    .dataframe tbody tr th:only-of-type {\n",
       "        vertical-align: middle;\n",
       "    }\n",
       "\n",
       "    .dataframe tbody tr th {\n",
       "        vertical-align: top;\n",
       "    }\n",
       "\n",
       "    .dataframe thead th {\n",
       "        text-align: right;\n",
       "    }\n",
       "</style>\n",
       "<table border=\"1\" class=\"dataframe\">\n",
       "  <thead>\n",
       "    <tr style=\"text-align: right;\">\n",
       "      <th></th>\n",
       "      <th>A</th>\n",
       "      <th>B</th>\n",
       "      <th>C</th>\n",
       "      <th>D</th>\n",
       "      <th>E</th>\n",
       "    </tr>\n",
       "  </thead>\n",
       "  <tbody>\n",
       "    <tr>\n",
       "      <th>2020-07-09</th>\n",
       "      <td>-0.259016</td>\n",
       "      <td>-0.053434</td>\n",
       "      <td>0.094656</td>\n",
       "      <td>0.272462</td>\n",
       "      <td>one</td>\n",
       "    </tr>\n",
       "    <tr>\n",
       "      <th>2020-07-10</th>\n",
       "      <td>1.844658</td>\n",
       "      <td>0.062865</td>\n",
       "      <td>-1.038972</td>\n",
       "      <td>0.546730</td>\n",
       "      <td>one</td>\n",
       "    </tr>\n",
       "    <tr>\n",
       "      <th>2020-07-11</th>\n",
       "      <td>0.164361</td>\n",
       "      <td>-1.868173</td>\n",
       "      <td>-0.105984</td>\n",
       "      <td>0.216624</td>\n",
       "      <td>two</td>\n",
       "    </tr>\n",
       "    <tr>\n",
       "      <th>2020-07-12</th>\n",
       "      <td>-1.518766</td>\n",
       "      <td>-0.088612</td>\n",
       "      <td>-1.891614</td>\n",
       "      <td>0.156646</td>\n",
       "      <td>three</td>\n",
       "    </tr>\n",
       "    <tr>\n",
       "      <th>2020-07-13</th>\n",
       "      <td>-0.802737</td>\n",
       "      <td>-1.202828</td>\n",
       "      <td>-0.674076</td>\n",
       "      <td>-1.512939</td>\n",
       "      <td>four</td>\n",
       "    </tr>\n",
       "  </tbody>\n",
       "</table>\n",
       "</div>"
      ],
      "text/plain": [
       "                   A         B         C         D      E\n",
       "2020-07-09 -0.259016 -0.053434  0.094656  0.272462    one\n",
       "2020-07-10  1.844658  0.062865 -1.038972  0.546730    one\n",
       "2020-07-11  0.164361 -1.868173 -0.105984  0.216624    two\n",
       "2020-07-12 -1.518766 -0.088612 -1.891614  0.156646  three\n",
       "2020-07-13 -0.802737 -1.202828 -0.674076 -1.512939   four"
      ]
     },
     "execution_count": 34,
     "metadata": {},
     "output_type": "execute_result"
    }
   ],
   "source": [
    "df2"
   ]
  },
  {
   "cell_type": "markdown",
   "metadata": {},
   "source": [
    "## 데이터 존재 유무 판단\n",
    "isin 함수를 이용해서 특정 데이터가 있는지 없는지 검사할 수 있다."
   ]
  },
  {
   "cell_type": "code",
   "execution_count": 35,
   "metadata": {},
   "outputs": [
    {
     "data": {
      "text/plain": [
       "2020-07-09      one\n",
       "2020-07-10      one\n",
       "2020-07-11      two\n",
       "2020-07-12    three\n",
       "2020-07-13     four\n",
       "Freq: D, Name: E, dtype: object"
      ]
     },
     "execution_count": 35,
     "metadata": {},
     "output_type": "execute_result"
    }
   ],
   "source": [
    "df2['E']"
   ]
  },
  {
   "cell_type": "code",
   "execution_count": 37,
   "metadata": {},
   "outputs": [
    {
     "data": {
      "text/plain": [
       "2020-07-09    False\n",
       "2020-07-10    False\n",
       "2020-07-11     True\n",
       "2020-07-12    False\n",
       "2020-07-13     True\n",
       "Freq: D, Name: E, dtype: bool"
      ]
     },
     "execution_count": 37,
     "metadata": {},
     "output_type": "execute_result"
    }
   ],
   "source": [
    "df2['E'].isin(['two','four'])"
   ]
  },
  {
   "cell_type": "code",
   "execution_count": 38,
   "metadata": {},
   "outputs": [
    {
     "data": {
      "text/html": [
       "<div>\n",
       "<style scoped>\n",
       "    .dataframe tbody tr th:only-of-type {\n",
       "        vertical-align: middle;\n",
       "    }\n",
       "\n",
       "    .dataframe tbody tr th {\n",
       "        vertical-align: top;\n",
       "    }\n",
       "\n",
       "    .dataframe thead th {\n",
       "        text-align: right;\n",
       "    }\n",
       "</style>\n",
       "<table border=\"1\" class=\"dataframe\">\n",
       "  <thead>\n",
       "    <tr style=\"text-align: right;\">\n",
       "      <th></th>\n",
       "      <th>A</th>\n",
       "      <th>B</th>\n",
       "      <th>C</th>\n",
       "      <th>D</th>\n",
       "    </tr>\n",
       "  </thead>\n",
       "  <tbody>\n",
       "    <tr>\n",
       "      <th>2020-07-11</th>\n",
       "      <td>0.164361</td>\n",
       "      <td>-1.868173</td>\n",
       "      <td>-0.105984</td>\n",
       "      <td>0.216624</td>\n",
       "    </tr>\n",
       "    <tr>\n",
       "      <th>2020-07-13</th>\n",
       "      <td>-0.802737</td>\n",
       "      <td>-1.202828</td>\n",
       "      <td>-0.674076</td>\n",
       "      <td>-1.512939</td>\n",
       "    </tr>\n",
       "  </tbody>\n",
       "</table>\n",
       "</div>"
      ],
      "text/plain": [
       "                   A         B         C         D\n",
       "2020-07-11  0.164361 -1.868173 -0.105984  0.216624\n",
       "2020-07-13 -0.802737 -1.202828 -0.674076 -1.512939"
      ]
     },
     "execution_count": 38,
     "metadata": {},
     "output_type": "execute_result"
    }
   ],
   "source": [
    "df[df2['E'].isin(['two','four'])]\n",
    "# E 컬럼이 two, foru인 컬럼만 출력"
   ]
  },
  {
   "cell_type": "markdown",
   "metadata": {},
   "source": [
    "# 데이터 프레임에서 간단한 연산 및 통계 수행하기\n",
    "apply 함수를 사용한다. numpy와 자주 같이 사용된다."
   ]
  },
  {
   "cell_type": "code",
   "execution_count": 40,
   "metadata": {},
   "outputs": [
    {
     "data": {
      "text/plain": [
       "A   -0.114300\n",
       "B   -0.630036\n",
       "C   -0.723198\n",
       "D   -0.064095\n",
       "dtype: float64"
      ]
     },
     "execution_count": 40,
     "metadata": {},
     "output_type": "execute_result"
    }
   ],
   "source": [
    "df.apply(np.mean) # 각 컬럼의 평균값"
   ]
  },
  {
   "cell_type": "code",
   "execution_count": 41,
   "metadata": {},
   "outputs": [
    {
     "data": {
      "text/html": [
       "<div>\n",
       "<style scoped>\n",
       "    .dataframe tbody tr th:only-of-type {\n",
       "        vertical-align: middle;\n",
       "    }\n",
       "\n",
       "    .dataframe tbody tr th {\n",
       "        vertical-align: top;\n",
       "    }\n",
       "\n",
       "    .dataframe thead th {\n",
       "        text-align: right;\n",
       "    }\n",
       "</style>\n",
       "<table border=\"1\" class=\"dataframe\">\n",
       "  <thead>\n",
       "    <tr style=\"text-align: right;\">\n",
       "      <th></th>\n",
       "      <th>A</th>\n",
       "      <th>B</th>\n",
       "      <th>C</th>\n",
       "      <th>D</th>\n",
       "    </tr>\n",
       "  </thead>\n",
       "  <tbody>\n",
       "    <tr>\n",
       "      <th>2020-07-09</th>\n",
       "      <td>-0.259016</td>\n",
       "      <td>-0.053434</td>\n",
       "      <td>0.094656</td>\n",
       "      <td>0.272462</td>\n",
       "    </tr>\n",
       "    <tr>\n",
       "      <th>2020-07-10</th>\n",
       "      <td>1.585642</td>\n",
       "      <td>0.009431</td>\n",
       "      <td>-0.944316</td>\n",
       "      <td>0.819192</td>\n",
       "    </tr>\n",
       "    <tr>\n",
       "      <th>2020-07-11</th>\n",
       "      <td>1.750003</td>\n",
       "      <td>-1.858742</td>\n",
       "      <td>-1.050300</td>\n",
       "      <td>1.035815</td>\n",
       "    </tr>\n",
       "    <tr>\n",
       "      <th>2020-07-12</th>\n",
       "      <td>0.231237</td>\n",
       "      <td>-1.947354</td>\n",
       "      <td>-2.941914</td>\n",
       "      <td>1.192462</td>\n",
       "    </tr>\n",
       "    <tr>\n",
       "      <th>2020-07-13</th>\n",
       "      <td>-0.571500</td>\n",
       "      <td>-3.150182</td>\n",
       "      <td>-3.615990</td>\n",
       "      <td>-0.320477</td>\n",
       "    </tr>\n",
       "  </tbody>\n",
       "</table>\n",
       "</div>"
      ],
      "text/plain": [
       "                   A         B         C         D\n",
       "2020-07-09 -0.259016 -0.053434  0.094656  0.272462\n",
       "2020-07-10  1.585642  0.009431 -0.944316  0.819192\n",
       "2020-07-11  1.750003 -1.858742 -1.050300  1.035815\n",
       "2020-07-12  0.231237 -1.947354 -2.941914  1.192462\n",
       "2020-07-13 -0.571500 -3.150182 -3.615990 -0.320477"
      ]
     },
     "execution_count": 41,
     "metadata": {},
     "output_type": "execute_result"
    }
   ],
   "source": [
    "df.apply(np.cumsum) # 각 컬럼의 누적합"
   ]
  },
  {
   "cell_type": "code",
   "execution_count": 42,
   "metadata": {},
   "outputs": [
    {
     "data": {
      "text/plain": [
       "A    3.363424\n",
       "B    1.931037\n",
       "C    1.986270\n",
       "D    2.059668\n",
       "dtype: float64"
      ]
     },
     "execution_count": 42,
     "metadata": {},
     "output_type": "execute_result"
    }
   ],
   "source": [
    "df.apply(lambda x : x.max() - x.min()) # 각 시리즈 별 최댓값 - 최솟값"
   ]
  },
  {
   "cell_type": "markdown",
   "metadata": {},
   "source": [
    "## 10분 판다스를 참고해서 많은 기능등을 익힐 수 있다. \n",
    "- 너무 쉬워서 연습을 못하는 경우가 많다."
   ]
  },
  {
   "cell_type": "code",
   "execution_count": null,
   "metadata": {},
   "outputs": [],
   "source": []
  },
  {
   "cell_type": "code",
   "execution_count": null,
   "metadata": {},
   "outputs": [],
   "source": []
  },
  {
   "cell_type": "code",
   "execution_count": null,
   "metadata": {},
   "outputs": [],
   "source": []
  },
  {
   "cell_type": "code",
   "execution_count": null,
   "metadata": {},
   "outputs": [],
   "source": []
  }
 ],
 "metadata": {
  "kernelspec": {
   "display_name": "Python 3",
   "language": "python",
   "name": "python3"
  },
  "language_info": {
   "codemirror_mode": {
    "name": "ipython",
    "version": 3
   },
   "file_extension": ".py",
   "mimetype": "text/x-python",
   "name": "python",
   "nbconvert_exporter": "python",
   "pygments_lexer": "ipython3",
   "version": "3.7.6"
  }
 },
 "nbformat": 4,
 "nbformat_minor": 4
}
