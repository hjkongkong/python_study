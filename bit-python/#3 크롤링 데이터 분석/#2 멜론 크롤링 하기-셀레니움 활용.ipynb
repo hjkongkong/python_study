{
 "cells": [
  {
   "cell_type": "markdown",
   "metadata": {},
   "source": [
    "TOP 100 제목, 가수 앨범명, 좋아요"
   ]
  },
  {
   "cell_type": "code",
   "execution_count": 7,
   "metadata": {},
   "outputs": [],
   "source": [
    "# from urllib.request import Request, urlopen\n",
    "from selenium import webdriver # pip install selenium\n",
    "from bs4 import BeautifulSoup\n",
    "\n",
    "import pandas as pd\n",
    "\n",
    "driver = webdriver.Chrome('./driver/chromedriver.exe')\n",
    "\n",
    "sing_date_time='2020071515'\n",
    "melon_url = 'https://www.melon.com/chart/index.htm?dayTime={}'.format(sing_date_time)\n",
    "driver.get(melon_url)"
   ]
  },
  {
   "cell_type": "code",
   "execution_count": 3,
   "metadata": {},
   "outputs": [],
   "source": [
    "top100_tbody = soup.find(\"tbody\")\n",
    "top100_tr_list = top100_tbody.find_all('tr')"
   ]
  },
  {
   "cell_type": "code",
   "execution_count": 4,
   "metadata": {},
   "outputs": [],
   "source": [
    "song_list = []\n",
    "singer_list = []\n",
    "album_list = []\n",
    "likes_list = []\n",
    "\n",
    "for tr in top100_tr_list:\n",
    "    song_title = tr.find('div', class_='ellipsis rank01').text.strip()\n",
    "    singer     = tr.find('div', class_='ellipsis rank02').text.strip()\n",
    "    album      = tr.find('div', class_='ellipsis rank03').text.strip()\n",
    "    likes      = tr.find('button', class_='button_etc like').find('span', class_='cnt').text.replace('총건수', '').strip()\n",
    "    \n",
    "    song_list.append(song_title)\n",
    "    singer_list.append(singer)\n",
    "    album_list.append(album)\n",
    "    likes_list.append(likes)"
   ]
  },
  {
   "cell_type": "code",
   "execution_count": 5,
   "metadata": {},
   "outputs": [
    {
     "data": {
      "text/html": [
       "<div>\n",
       "<style scoped>\n",
       "    .dataframe tbody tr th:only-of-type {\n",
       "        vertical-align: middle;\n",
       "    }\n",
       "\n",
       "    .dataframe tbody tr th {\n",
       "        vertical-align: top;\n",
       "    }\n",
       "\n",
       "    .dataframe thead th {\n",
       "        text-align: right;\n",
       "    }\n",
       "</style>\n",
       "<table border=\"1\" class=\"dataframe\">\n",
       "  <thead>\n",
       "    <tr style=\"text-align: right;\">\n",
       "      <th></th>\n",
       "      <th>제목</th>\n",
       "      <th>가수</th>\n",
       "      <th>앨범</th>\n",
       "      <th>좋아요</th>\n",
       "    </tr>\n",
       "  </thead>\n",
       "  <tbody>\n",
       "    <tr>\n",
       "      <th>0</th>\n",
       "      <td>How You Like That</td>\n",
       "      <td>BLACKPINKBLACKPINK</td>\n",
       "      <td>How You Like That</td>\n",
       "      <td>0</td>\n",
       "    </tr>\n",
       "    <tr>\n",
       "      <th>1</th>\n",
       "      <td>Summer Hate (Feat. 비)</td>\n",
       "      <td>지코 (ZICO)지코 (ZICO)</td>\n",
       "      <td>RANDOM BOX</td>\n",
       "      <td>0</td>\n",
       "    </tr>\n",
       "    <tr>\n",
       "      <th>2</th>\n",
       "      <td>마리아 (Maria)</td>\n",
       "      <td>화사 (Hwa Sa)화사 (Hwa Sa)</td>\n",
       "      <td>María</td>\n",
       "      <td>0</td>\n",
       "    </tr>\n",
       "    <tr>\n",
       "      <th>3</th>\n",
       "      <td>Downtown Baby</td>\n",
       "      <td>블루 (BLOO)블루 (BLOO)</td>\n",
       "      <td>Downtown Baby</td>\n",
       "      <td>0</td>\n",
       "    </tr>\n",
       "    <tr>\n",
       "      <th>4</th>\n",
       "      <td>여름 안에서 (Covered By 싹쓰리) (Feat. 황광희)</td>\n",
       "      <td>싹쓰리 (유두래곤, 린다G, 비룡)싹쓰리 (유두래곤, 린다G, 비룡)</td>\n",
       "      <td>여름 안에서 (Covered By 싹쓰리)</td>\n",
       "      <td>0</td>\n",
       "    </tr>\n",
       "  </tbody>\n",
       "</table>\n",
       "</div>"
      ],
      "text/plain": [
       "                                    제목  \\\n",
       "0                    How You Like That   \n",
       "1                Summer Hate (Feat. 비)   \n",
       "2                          마리아 (Maria)   \n",
       "3                        Downtown Baby   \n",
       "4  여름 안에서 (Covered By 싹쓰리) (Feat. 황광희)   \n",
       "\n",
       "                                       가수                       앨범 좋아요  \n",
       "0                      BLACKPINKBLACKPINK        How You Like That   0  \n",
       "1                      지코 (ZICO)지코 (ZICO)               RANDOM BOX   0  \n",
       "2                  화사 (Hwa Sa)화사 (Hwa Sa)                    María   0  \n",
       "3                      블루 (BLOO)블루 (BLOO)            Downtown Baby   0  \n",
       "4  싹쓰리 (유두래곤, 린다G, 비룡)싹쓰리 (유두래곤, 린다G, 비룡)  여름 안에서 (Covered By 싹쓰리)   0  "
      ]
     },
     "execution_count": 5,
     "metadata": {},
     "output_type": "execute_result"
    }
   ],
   "source": [
    "df_melon_top_100 = pd.DataFrame({\n",
    "    '제목':song_list,\n",
    "    '가수':singer_list,\n",
    "    '앨범':album_list,\n",
    "    '좋아요':likes_list\n",
    "})\n",
    "df_melon_top_100.head()"
   ]
  },
  {
   "cell_type": "markdown",
   "metadata": {},
   "source": [
    "selenium 패키지를 이용해서 좋아요를 가지고 올 수 있다."
   ]
  },
  {
   "cell_type": "code",
   "execution_count": 8,
   "metadata": {},
   "outputs": [],
   "source": [
    "driver.close()"
   ]
  },
  {
   "cell_type": "code",
   "execution_count": null,
   "metadata": {},
   "outputs": [],
   "source": []
  }
 ],
 "metadata": {
  "kernelspec": {
   "display_name": "Python 3",
   "language": "python",
   "name": "python3"
  },
  "language_info": {
   "codemirror_mode": {
    "name": "ipython",
    "version": 3
   },
   "file_extension": ".py",
   "mimetype": "text/x-python",
   "name": "python",
   "nbconvert_exporter": "python",
   "pygments_lexer": "ipython3",
   "version": "3.7.6"
  }
 },
 "nbformat": 4,
 "nbformat_minor": 4
}
