{
 "cells": [
  {
   "cell_type": "code",
   "execution_count": 3,
   "metadata": {},
   "outputs": [
    {
     "data": {
      "text/plain": [
       "'3.9.8 (tags/v3.9.8:bb3fdcf, Nov  5 2021, 20:48:33) [MSC v.1929 64 bit (AMD64)]'"
      ]
     },
     "execution_count": 3,
     "metadata": {},
     "output_type": "execute_result"
    }
   ],
   "source": [
    "import sys\n",
    "sys.version"
   ]
  },
  {
   "cell_type": "code",
   "execution_count": 4,
   "metadata": {},
   "outputs": [],
   "source": [
    "import numpy as np\n",
    "import pandas as pd\n",
    "import matplotlib.pyplot as plt"
   ]
  },
  {
   "cell_type": "code",
   "execution_count": 5,
   "metadata": {},
   "outputs": [],
   "source": [
    "X = np.array([[0,1,2],[3,4,5],[6,7,8]])"
   ]
  },
  {
   "cell_type": "code",
   "execution_count": 7,
   "metadata": {},
   "outputs": [
    {
     "data": {
      "text/plain": [
       "array([0, 1, 2, 3, 4, 5, 6, 7, 8])"
      ]
     },
     "execution_count": 7,
     "metadata": {},
     "output_type": "execute_result"
    }
   ],
   "source": [
    "X.reshape(-1,)"
   ]
  },
  {
   "cell_type": "markdown",
   "metadata": {},
   "source": [
    "#### 다차원 색인 시스템<br>\n",
    "축(axis) \n",
    "- 0 : index\n",
    "    - 행 방향으로 동작\n",
    "    - 책을 위로 쌓아 정리하는 것과 같다.\n",
    "- 1 : columns\n",
    "    - 열 방향으로 동작\n",
    "    - 책을 옆으로 정리하는 것과 같다.\n",
    "    \n",
    "## 퍼셉트론\n",
    "\n",
    "퍼셉트론 동작원리<br>\n",
    "y = \n",
    "- 0\n",
    "     - w1x1 + w2x2 <= θ\n",
    "- 1\n",
    "     - w1x1 + w2x2 > θ"
   ]
  },
  {
   "cell_type": "code",
   "execution_count": 18,
   "metadata": {},
   "outputs": [],
   "source": [
    "# MCP뉴런\n",
    "def MCF뉴런(x,w,b):\n",
    "    z = np.dot(x,w) + b\n",
    "    y = 1 if z > 0 else -1\n",
    "    return y"
   ]
  },
  {
   "cell_type": "markdown",
   "metadata": {},
   "source": [
    "#### AND 게이트 구현"
   ]
  },
  {
   "cell_type": "code",
   "execution_count": 19,
   "metadata": {},
   "outputs": [],
   "source": [
    "def logic(w,b) : \n",
    "    for x1, x2 in [(0,0),(0,1),(1,0),(1,1)] : \n",
    "        x = np.array([x1,x2])\n",
    "        y = MCF뉴런(x,w,b)\n",
    "        print(x1,x2,'|',y)"
   ]
  },
  {
   "cell_type": "code",
   "execution_count": 21,
   "metadata": {},
   "outputs": [
    {
     "name": "stdout",
     "output_type": "stream",
     "text": [
      "0 0 | -1\n",
      "0 1 | -1\n",
      "1 0 | -1\n",
      "1 1 | 1\n"
     ]
    }
   ],
   "source": [
    "# and\n",
    "w_and = np.array([0.5,0.5])\n",
    "b_and = -0.7\n",
    "logic(w_and,b_and)"
   ]
  },
  {
   "cell_type": "markdown",
   "metadata": {},
   "source": [
    "현재는 w_and와 b_and의 값을 주었지만,<br>후에 스스로 답을 찾게 하는 것을 딥러닝에서는 **학습**이라고 한다."
   ]
  },
  {
   "cell_type": "code",
   "execution_count": 23,
   "metadata": {},
   "outputs": [
    {
     "name": "stdout",
     "output_type": "stream",
     "text": [
      "0 0 | 1\n",
      "0 1 | 1\n",
      "1 0 | 1\n",
      "1 1 | -1\n"
     ]
    }
   ],
   "source": [
    "# nand\n",
    "w_nand = np.array([-0.5,-0.5]) # -로 바꾸기\n",
    "b_nand = 0.7\n",
    "logic(w_nand,b_nand)"
   ]
  },
  {
   "cell_type": "code",
   "execution_count": 24,
   "metadata": {},
   "outputs": [
    {
     "name": "stdout",
     "output_type": "stream",
     "text": [
      "0 0 | -1\n",
      "0 1 | 1\n",
      "1 0 | 1\n",
      "1 1 | 1\n"
     ]
    }
   ],
   "source": [
    "# or\n",
    "w_or = np.array([0.5,0.5])\n",
    "b_or = -0.2\n",
    "logic(w_or,b_or)"
   ]
  },
  {
   "cell_type": "markdown",
   "metadata": {},
   "source": [
    "함수도 동일하고, 입력도 동일한데,<br>\n",
    "매개변수의 설정에 따라 출력이 달라진다."
   ]
  },
  {
   "cell_type": "markdown",
   "metadata": {},
   "source": [
    "## MCP 뉴런의 한계\n",
    "MCP뉴런 -> 해법을 사람이 알려준 것.<br>\n",
    "framework는 제공해줬지만 해법은 모른다.<br>\n",
    "<br>\n",
    "가중치와 편향을 매개변수를 이용하여 나타낼 수 있었던 AND, NAND, OR 게이트와 달리 비선형 영역이 존재하는 XOR 게이트는 나타낼 수 없다. \n",
    "<br>\n",
    "즉, 선형 분포를 가지고있는 OR의 경우, 선형 모형인 퍼셉트론으로 해결 가능(유한번 이내에 수렴 가능)<br>\n",
    "비선형 분포를 가지고 있는 XOR의 경우 선형 모델인 퍼셉트론으로 해결 불가능<br>\n",
    "단일 퍼셉트론만으로는 비선형적 데이터를 완벽하게 나누지 못한다. → 퍼셉트론의 한계<br>"
   ]
  },
  {
   "cell_type": "code",
   "execution_count": 25,
   "metadata": {},
   "outputs": [
    {
     "data": {
      "text/plain": [
       "'\\ndef XOR(x1, x2) : \\n    s1 = NAND(x1,x2)\\n    s2 = OR(x1,x2)\\n    y = AND(s1,s2)\\n    return y\\n'"
      ]
     },
     "execution_count": 25,
     "metadata": {},
     "output_type": "execute_result"
    }
   ],
   "source": [
    "# 여러 게이트를 쌓아서  XOR 게이트를 구현 할 수 있다.\n",
    "'''\n",
    "def XOR(x1, x2) : \n",
    "    s1 = NAND(x1,x2)\n",
    "    s2 = OR(x1,x2)\n",
    "    y = AND(s1,s2)\n",
    "    return y\n",
    "'''"
   ]
  }
 ],
 "metadata": {
  "kernelspec": {
   "display_name": "TensorFlow 2.6(py39)",
   "language": "python",
   "name": "pydeep"
  },
  "language_info": {
   "codemirror_mode": {
    "name": "ipython",
    "version": 3
   },
   "file_extension": ".py",
   "mimetype": "text/x-python",
   "name": "python",
   "nbconvert_exporter": "python",
   "pygments_lexer": "ipython3",
   "version": "3.9.8"
  }
 },
 "nbformat": 4,
 "nbformat_minor": 2
}
